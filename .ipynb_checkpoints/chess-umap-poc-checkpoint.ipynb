{
 "cells": [
  {
   "cell_type": "markdown",
   "metadata": {},
   "source": [
    "# UMAP chess dataset EDA\n",
    "\n",
    "---"
   ]
  },
  {
   "cell_type": "markdown",
   "metadata": {},
   "source": [
    "## 1. Staging\n",
    "\n",
    "---\n",
    "\n",
    "import section:"
   ]
  },
  {
   "cell_type": "code",
   "execution_count": 1,
   "metadata": {},
   "outputs": [],
   "source": [
    "import pandas as pd\n",
    "import numpy as np\n",
    "\n",
    "from matplotlib import pyplot as plt\n",
    "\n",
    "import umap\n",
    "\n",
    "from sklearn.preprocessing import OneHotEncoder\n",
    "from sklearn.feature_extraction.text import CountVectorizer\n",
    "from sklearn.compose import make_column_transformer\n",
    "\n",
    "import tqdm.notebook as tqn\n",
    "import pdb"
   ]
  },
  {
   "cell_type": "markdown",
   "metadata": {},
   "source": [
    "### 1.1 Project parametrisation\n",
    "\n",
    "1. General parameters\n",
    "2. Vectorized moves table\n",
    "3. Metadata table"
   ]
  },
  {
   "cell_type": "markdown",
   "metadata": {},
   "source": [
    "#### 1.1.1 General parameters"
   ]
  },
  {
   "cell_type": "code",
   "execution_count": 2,
   "metadata": {},
   "outputs": [],
   "source": [
    "## project\n",
    "notebook_ver = 0.3\n",
    "## input dataset\n",
    "data_pth = './data/games.csv'"
   ]
  },
  {
   "cell_type": "markdown",
   "metadata": {},
   "source": [
    "#### 1.1.2 Vectorized moves table parameters"
   ]
  },
  {
   "cell_type": "markdown",
   "metadata": {},
   "source": [
    "#### 1.1.3 Metadata table params"
   ]
  },
  {
   "cell_type": "code",
   "execution_count": 3,
   "metadata": {},
   "outputs": [],
   "source": [
    "## Define nominal data variables to be thrown at one-hot-encoder\n",
    "to_hot_encode = [\n",
    "    'opening_eco',\n",
    "    'increment_code',\n",
    "    'victory_status'\n",
    "]\n",
    "\n",
    "## Define string variables for str vectorization\n",
    "to_vectorize = [\n",
    "    'white_id',\n",
    "    'black_id'\n",
    "]\n",
    "\n",
    "## Define numerical cols to use\n",
    "num_cols = [\n",
    "    'winner_bin',\n",
    "    'rated_bin',\n",
    "    'game_len_mins',\n",
    "#     'turns', # dense var\n",
    "#     'white_rating', # dense var\n",
    "#     'black_rating', # dense var\n",
    "    'opening_ply'\n",
    "]"
   ]
  },
  {
   "cell_type": "markdown",
   "metadata": {},
   "source": [
    "### 1.2 Functions"
   ]
  },
  {
   "cell_type": "code",
   "execution_count": 76,
   "metadata": {},
   "outputs": [],
   "source": [
    "def to_uni(mov):\n",
    "    '''\n",
    "    Turn str move encoding into a sequence of Unicode values\n",
    "    '''\n",
    "    move_unicode = []\n",
    "    for char in str(mov):\n",
    "        move_unicode.append(ord(char))\n",
    "    return move_unicode"
   ]
  },
  {
   "cell_type": "code",
   "execution_count": 77,
   "metadata": {},
   "outputs": [],
   "source": [
    "def encode_moves(moves_seq, encoding='unilog', magnitude=10_000_000):\n",
    "    '''\n",
    "    Encode move into an integer = 1*e^10\n",
    "    '''\n",
    "    moves = []\n",
    "\n",
    "    for move in moves_seq.split(' '):\n",
    "        ## Convert str encoding to unicode vals\n",
    "        move_uni = to_uni(move)\n",
    "        ## Multiply all unicode vals together\n",
    "        move_prod = np.prod(np.array(move_uni))  \n",
    "        \n",
    "        if encoding == 'unilog':\n",
    "            ## Take log2 for every move and multiply by 10_000_000\n",
    "            moves.append(int(np.log2(move_prod)*magnitude))\n",
    "        elif encoding == 'unicode':\n",
    "            moves.append(int(move_prod))\n",
    "        \n",
    "            \n",
    "    return(moves)"
   ]
  },
  {
   "cell_type": "code",
   "execution_count": 78,
   "metadata": {},
   "outputs": [],
   "source": [
    "def move_vectorizer(moves_df, id_col='id'):\n",
    "    \"\"\"\n",
    "    Takes long moves table and transposes it to wide format\n",
    "    :return: list of pd.DataFrames \n",
    "    \"\"\"\n",
    "    \n",
    "    transposed_moves = []\n",
    "    \n",
    "    ## Setup a tqn loop \n",
    "    for game in tqn.trange(0, len(moves_df.index.unique())):\n",
    "        ## Slice source by game idx \n",
    "        GRABBED_MOVES = moves_df.loc[game] \n",
    "        ## Each column will correspond to a move number in the game sequence\n",
    "        cols = range(1,len(GRABBED_MOVES)+1)\n",
    "        \n",
    "        ## Some games have only one move in that case pd.Series returns a single 'str' val\n",
    "        ## instead of a list of strings. \n",
    "        if type(GRABBED_MOVES[id_col]) is str:\n",
    "            game_id = GRABBED_MOVES[id_col]\n",
    "            GRABBED_MOVES_TR = GRABBED_MOVES.iloc[0]\n",
    "            ## Construct dataframe that represent game moves in a vector\n",
    "            TRANS_MOVES = pd.DataFrame({1:GRABBED_MOVES_TR}, index=[game_id])\n",
    "        else:\n",
    "            game_id = GRABBED_MOVES[id_col].unique()[0]\n",
    "            GRABBED_MOVES_TR = GRABBED_MOVES.drop(columns=id_col)\n",
    "            ## Construct dataframe that represent game moves in a vector\n",
    "            TRANS_MOVES = pd.DataFrame(GRABBED_MOVES_TR).T\n",
    "            TRANS_MOVES.index = [game_id]\n",
    "            TRANS_MOVES.columns = cols\n",
    "        \n",
    "        transposed_moves.append(TRANS_MOVES)\n",
    "        \n",
    "    return transposed_moves"
   ]
  },
  {
   "cell_type": "markdown",
   "metadata": {},
   "source": [
    "### 1.3 Data load "
   ]
  },
  {
   "cell_type": "code",
   "execution_count": 79,
   "metadata": {},
   "outputs": [],
   "source": [
    "GAMES = pd.read_csv(data_pth)"
   ]
  },
  {
   "cell_type": "markdown",
   "metadata": {
    "tags": []
   },
   "source": [
    "## 2. Preprocessing & initial dataset exploration\n",
    "\n",
    "---"
   ]
  },
  {
   "cell_type": "code",
   "execution_count": 80,
   "metadata": {},
   "outputs": [],
   "source": [
    "## Encode binary variables to integers\n",
    "GAMES['rated_bin'] = np.where(GAMES['rated'] == True, 1, 0)\n",
    "\n",
    "GAMES.drop(columns='rated',\n",
    "          inplace=True)"
   ]
  },
  {
   "cell_type": "code",
   "execution_count": 81,
   "metadata": {},
   "outputs": [],
   "source": [
    "GAMES['winner_bin'] = np.where(GAMES['winner'] == 'white', 0, 1)\n",
    "\n",
    "GAMES.drop(columns='winner',\n",
    "          inplace=True)"
   ]
  },
  {
   "cell_type": "code",
   "execution_count": 82,
   "metadata": {},
   "outputs": [],
   "source": [
    "## Opening, closing games dates transformation\n",
    "GAMES['created_at_dt'] = pd.to_datetime(GAMES['created_at']/1000, unit='s', origin='unix')\n",
    "GAMES['last_move_at_dt'] = pd.to_datetime(GAMES['last_move_at']/1000, unit='s', origin='unix')\n",
    "\n",
    "GAMES['game_len_dt'] = GAMES['last_move_at_dt'] - GAMES['created_at_dt']\n",
    "GAMES['game_len'] = GAMES['last_move_at'] - GAMES['created_at']\n",
    "\n",
    "GAMES['game_len_mins'] = GAMES['game_len_dt'].dt.components['minutes']"
   ]
  },
  {
   "cell_type": "markdown",
   "metadata": {},
   "source": [
    "## 3. Vector formation\n",
    "\n",
    "---"
   ]
  },
  {
   "cell_type": "markdown",
   "metadata": {},
   "source": [
    "### 3.1 Vectorized moves table"
   ]
  },
  {
   "cell_type": "code",
   "execution_count": 83,
   "metadata": {},
   "outputs": [],
   "source": [
    "## create a algebraic notation to iccf notation board mapping\n",
    "# iccf_board = [str(x)+str(y) for x in range(1,9) for y in range(1,9)]\n",
    "# algebraic_board = [l + str(i) for l in list('abcdefgh') for i in range(1,9)]\n",
    "# board_mapping = {algebraic : iccf for algebraic, iccf in zip(algebraic_board, iccf_board)}"
   ]
  },
  {
   "cell_type": "code",
   "execution_count": 84,
   "metadata": {},
   "outputs": [],
   "source": [
    "## Encode moves into separate variable\n",
    "GAMES['moves_encoded'] = GAMES['moves'].apply(lambda x: encode_moves(x, \n",
    "                                                                     magnitude=10, \n",
    "                                                                     encoding='unicode'))"
   ]
  },
  {
   "cell_type": "code",
   "execution_count": 85,
   "metadata": {},
   "outputs": [
    {
     "data": {
      "text/html": [
       "<div>\n",
       "<style scoped>\n",
       "    .dataframe tbody tr th:only-of-type {\n",
       "        vertical-align: middle;\n",
       "    }\n",
       "\n",
       "    .dataframe tbody tr th {\n",
       "        vertical-align: top;\n",
       "    }\n",
       "\n",
       "    .dataframe thead th {\n",
       "        text-align: right;\n",
       "    }\n",
       "</style>\n",
       "<table border=\"1\" class=\"dataframe\">\n",
       "  <thead>\n",
       "    <tr style=\"text-align: right;\">\n",
       "      <th></th>\n",
       "      <th>moves_encoded</th>\n",
       "      <th>id</th>\n",
       "    </tr>\n",
       "  </thead>\n",
       "  <tbody>\n",
       "    <tr>\n",
       "      <th>0</th>\n",
       "      <td>[5200, 5300, 5148, 5346, 62964000, 5454, 65448...</td>\n",
       "      <td>TZJHLljE</td>\n",
       "    </tr>\n",
       "    <tr>\n",
       "      <th>1</th>\n",
       "      <td>[5200, 416988, 5252, 5353, 5304, 5508, 6423600...</td>\n",
       "      <td>l1NXvwaE</td>\n",
       "    </tr>\n",
       "    <tr>\n",
       "      <th>2</th>\n",
       "      <td>[5252, 5353, 5100, 5400, 339966, 5346, 333300,...</td>\n",
       "      <td>mIICvQHh</td>\n",
       "    </tr>\n",
       "    <tr>\n",
       "      <th>3</th>\n",
       "      <td>[5200, 5300, 405756, 356796, 393822, 429624, 3...</td>\n",
       "      <td>kWKvrqYL</td>\n",
       "    </tr>\n",
       "    <tr>\n",
       "      <th>4</th>\n",
       "      <td>[5252, 5353, 405756, 5400, 5200, 416988, 5300,...</td>\n",
       "      <td>9tXo1AUZ</td>\n",
       "    </tr>\n",
       "  </tbody>\n",
       "</table>\n",
       "</div>"
      ],
      "text/plain": [
       "                                       moves_encoded        id\n",
       "0  [5200, 5300, 5148, 5346, 62964000, 5454, 65448...  TZJHLljE\n",
       "1  [5200, 416988, 5252, 5353, 5304, 5508, 6423600...  l1NXvwaE\n",
       "2  [5252, 5353, 5100, 5400, 339966, 5346, 333300,...  mIICvQHh\n",
       "3  [5200, 5300, 405756, 356796, 393822, 429624, 3...  kWKvrqYL\n",
       "4  [5252, 5353, 405756, 5400, 5200, 416988, 5300,...  9tXo1AUZ"
      ]
     },
     "execution_count": 85,
     "metadata": {},
     "output_type": "execute_result"
    }
   ],
   "source": [
    "## Create Moves Table\n",
    "MOVES = GAMES[['moves_encoded','id']]\n",
    "MOVES.reset_index(inplace=True, drop=True)\n",
    "\n",
    "MOVES.head()"
   ]
  },
  {
   "cell_type": "code",
   "execution_count": 86,
   "metadata": {},
   "outputs": [],
   "source": [
    "## Form a vector out of moves_encoded variable\n",
    "MOVES_EXPLODED = MOVES.explode(column='moves_encoded')"
   ]
  },
  {
   "cell_type": "code",
   "execution_count": 87,
   "metadata": {},
   "outputs": [
    {
     "data": {
      "application/vnd.jupyter.widget-view+json": {
       "model_id": "715c8df76bdb49e08da3b49a1de672b9",
       "version_major": 2,
       "version_minor": 0
      },
      "text/plain": [
       "  0%|          | 0/20058 [00:00<?, ?it/s]"
      ]
     },
     "metadata": {},
     "output_type": "display_data"
    }
   ],
   "source": [
    "## Construct a list of dataframes representing vectorised games\n",
    "transposed_moves = move_vectorizer(MOVES_EXPLODED)"
   ]
  },
  {
   "cell_type": "code",
   "execution_count": 88,
   "metadata": {},
   "outputs": [],
   "source": [
    "## Concat all vectors into a single dataframe\n",
    "MOVES_V = pd.concat(transposed_moves)\n",
    "MOVES_V.fillna(0, inplace=True)"
   ]
  },
  {
   "cell_type": "code",
   "execution_count": 89,
   "metadata": {},
   "outputs": [],
   "source": [
    "## Save table for later\n",
    "MOVES_V.to_csv('./moves_trans.csv')"
   ]
  },
  {
   "cell_type": "markdown",
   "metadata": {},
   "source": [
    "### 3.1 Vectorized moves table"
   ]
  },
  {
   "cell_type": "code",
   "execution_count": 90,
   "metadata": {},
   "outputs": [],
   "source": [
    "## Instantiate One Hot Encoder\n",
    "ohe = OneHotEncoder(handle_unknown='error')"
   ]
  },
  {
   "cell_type": "code",
   "execution_count": 91,
   "metadata": {},
   "outputs": [],
   "source": [
    "## Instantiate Count Vectorizer\n",
    "cve = CountVectorizer()"
   ]
  },
  {
   "cell_type": "code",
   "execution_count": 92,
   "metadata": {},
   "outputs": [],
   "source": [
    "## Set column transformer\n",
    "column_trans = make_column_transformer((ohe,to_hot_encode),\n",
    "                                       remainder='passthrough')"
   ]
  },
  {
   "cell_type": "code",
   "execution_count": 93,
   "metadata": {},
   "outputs": [
    {
     "data": {
      "text/plain": [
       "ColumnTransformer(remainder='passthrough',\n",
       "                  transformers=[('onehotencoder', OneHotEncoder(),\n",
       "                                 ['opening_eco', 'increment_code',\n",
       "                                  'victory_status'])])"
      ]
     },
     "execution_count": 93,
     "metadata": {},
     "output_type": "execute_result"
    }
   ],
   "source": [
    "## Fit column transformer\n",
    "column_trans.fit(GAMES[to_hot_encode])"
   ]
  },
  {
   "cell_type": "code",
   "execution_count": 94,
   "metadata": {},
   "outputs": [
    {
     "name": "stderr",
     "output_type": "stream",
     "text": [
      "/home/nef/anaconda3/lib/python3.8/site-packages/sklearn/utils/deprecation.py:87: FutureWarning: Function get_feature_names is deprecated; get_feature_names is deprecated in 1.0 and will be removed in 1.2. Please use get_feature_names_out instead.\n",
      "  warnings.warn(msg, category=FutureWarning)\n"
     ]
    }
   ],
   "source": [
    "## Produce one-hot-encoded array \n",
    "hot_array = column_trans.transform(GAMES[to_hot_encode]).toarray()\n",
    "\n",
    "HOT_ENCODED = pd.DataFrame(hot_array, \n",
    "                          columns = column_trans.get_feature_names())"
   ]
  },
  {
   "cell_type": "code",
   "execution_count": 95,
   "metadata": {},
   "outputs": [],
   "source": [
    "## Form Meta game table\n",
    "META = GAMES[num_cols].merge(HOT_ENCODED,\n",
    "                     left_index=True,\n",
    "                     right_index=True)"
   ]
  },
  {
   "cell_type": "code",
   "execution_count": 96,
   "metadata": {},
   "outputs": [
    {
     "data": {
      "text/html": [
       "<div>\n",
       "<style scoped>\n",
       "    .dataframe tbody tr th:only-of-type {\n",
       "        vertical-align: middle;\n",
       "    }\n",
       "\n",
       "    .dataframe tbody tr th {\n",
       "        vertical-align: top;\n",
       "    }\n",
       "\n",
       "    .dataframe thead th {\n",
       "        text-align: right;\n",
       "    }\n",
       "</style>\n",
       "<table border=\"1\" class=\"dataframe\">\n",
       "  <thead>\n",
       "    <tr style=\"text-align: right;\">\n",
       "      <th></th>\n",
       "      <th>winner_bin</th>\n",
       "      <th>rated_bin</th>\n",
       "      <th>game_len_mins</th>\n",
       "      <th>opening_ply</th>\n",
       "      <th>onehotencoder__x0_A00</th>\n",
       "      <th>onehotencoder__x0_A01</th>\n",
       "      <th>onehotencoder__x0_A02</th>\n",
       "      <th>onehotencoder__x0_A03</th>\n",
       "      <th>onehotencoder__x0_A04</th>\n",
       "      <th>onehotencoder__x0_A05</th>\n",
       "      <th>...</th>\n",
       "      <th>onehotencoder__x1_9+9</th>\n",
       "      <th>onehotencoder__x1_90+0</th>\n",
       "      <th>onehotencoder__x1_90+120</th>\n",
       "      <th>onehotencoder__x1_90+30</th>\n",
       "      <th>onehotencoder__x1_90+5</th>\n",
       "      <th>onehotencoder__x1_90+8</th>\n",
       "      <th>onehotencoder__x2_draw</th>\n",
       "      <th>onehotencoder__x2_mate</th>\n",
       "      <th>onehotencoder__x2_outoftime</th>\n",
       "      <th>onehotencoder__x2_resign</th>\n",
       "    </tr>\n",
       "  </thead>\n",
       "  <tbody>\n",
       "    <tr>\n",
       "      <th>0</th>\n",
       "      <td>0</td>\n",
       "      <td>0</td>\n",
       "      <td>0</td>\n",
       "      <td>5</td>\n",
       "      <td>0.0</td>\n",
       "      <td>0.0</td>\n",
       "      <td>0.0</td>\n",
       "      <td>0.0</td>\n",
       "      <td>0.0</td>\n",
       "      <td>0.0</td>\n",
       "      <td>...</td>\n",
       "      <td>0.0</td>\n",
       "      <td>0.0</td>\n",
       "      <td>0.0</td>\n",
       "      <td>0.0</td>\n",
       "      <td>0.0</td>\n",
       "      <td>0.0</td>\n",
       "      <td>0.0</td>\n",
       "      <td>0.0</td>\n",
       "      <td>1.0</td>\n",
       "      <td>0.0</td>\n",
       "    </tr>\n",
       "    <tr>\n",
       "      <th>1</th>\n",
       "      <td>1</td>\n",
       "      <td>1</td>\n",
       "      <td>0</td>\n",
       "      <td>4</td>\n",
       "      <td>0.0</td>\n",
       "      <td>0.0</td>\n",
       "      <td>0.0</td>\n",
       "      <td>0.0</td>\n",
       "      <td>0.0</td>\n",
       "      <td>0.0</td>\n",
       "      <td>...</td>\n",
       "      <td>0.0</td>\n",
       "      <td>0.0</td>\n",
       "      <td>0.0</td>\n",
       "      <td>0.0</td>\n",
       "      <td>0.0</td>\n",
       "      <td>0.0</td>\n",
       "      <td>0.0</td>\n",
       "      <td>0.0</td>\n",
       "      <td>0.0</td>\n",
       "      <td>1.0</td>\n",
       "    </tr>\n",
       "    <tr>\n",
       "      <th>2</th>\n",
       "      <td>0</td>\n",
       "      <td>1</td>\n",
       "      <td>0</td>\n",
       "      <td>3</td>\n",
       "      <td>0.0</td>\n",
       "      <td>0.0</td>\n",
       "      <td>0.0</td>\n",
       "      <td>0.0</td>\n",
       "      <td>0.0</td>\n",
       "      <td>0.0</td>\n",
       "      <td>...</td>\n",
       "      <td>0.0</td>\n",
       "      <td>0.0</td>\n",
       "      <td>0.0</td>\n",
       "      <td>0.0</td>\n",
       "      <td>0.0</td>\n",
       "      <td>0.0</td>\n",
       "      <td>0.0</td>\n",
       "      <td>1.0</td>\n",
       "      <td>0.0</td>\n",
       "      <td>0.0</td>\n",
       "    </tr>\n",
       "    <tr>\n",
       "      <th>3</th>\n",
       "      <td>0</td>\n",
       "      <td>1</td>\n",
       "      <td>0</td>\n",
       "      <td>3</td>\n",
       "      <td>0.0</td>\n",
       "      <td>0.0</td>\n",
       "      <td>0.0</td>\n",
       "      <td>0.0</td>\n",
       "      <td>0.0</td>\n",
       "      <td>0.0</td>\n",
       "      <td>...</td>\n",
       "      <td>0.0</td>\n",
       "      <td>0.0</td>\n",
       "      <td>0.0</td>\n",
       "      <td>0.0</td>\n",
       "      <td>0.0</td>\n",
       "      <td>0.0</td>\n",
       "      <td>0.0</td>\n",
       "      <td>1.0</td>\n",
       "      <td>0.0</td>\n",
       "      <td>0.0</td>\n",
       "    </tr>\n",
       "    <tr>\n",
       "      <th>4</th>\n",
       "      <td>0</td>\n",
       "      <td>1</td>\n",
       "      <td>0</td>\n",
       "      <td>5</td>\n",
       "      <td>0.0</td>\n",
       "      <td>0.0</td>\n",
       "      <td>0.0</td>\n",
       "      <td>0.0</td>\n",
       "      <td>0.0</td>\n",
       "      <td>0.0</td>\n",
       "      <td>...</td>\n",
       "      <td>0.0</td>\n",
       "      <td>0.0</td>\n",
       "      <td>0.0</td>\n",
       "      <td>0.0</td>\n",
       "      <td>0.0</td>\n",
       "      <td>0.0</td>\n",
       "      <td>0.0</td>\n",
       "      <td>1.0</td>\n",
       "      <td>0.0</td>\n",
       "      <td>0.0</td>\n",
       "    </tr>\n",
       "  </tbody>\n",
       "</table>\n",
       "<p>5 rows × 773 columns</p>\n",
       "</div>"
      ],
      "text/plain": [
       "   winner_bin  rated_bin  game_len_mins  opening_ply  onehotencoder__x0_A00  \\\n",
       "0           0          0              0            5                    0.0   \n",
       "1           1          1              0            4                    0.0   \n",
       "2           0          1              0            3                    0.0   \n",
       "3           0          1              0            3                    0.0   \n",
       "4           0          1              0            5                    0.0   \n",
       "\n",
       "   onehotencoder__x0_A01  onehotencoder__x0_A02  onehotencoder__x0_A03  \\\n",
       "0                    0.0                    0.0                    0.0   \n",
       "1                    0.0                    0.0                    0.0   \n",
       "2                    0.0                    0.0                    0.0   \n",
       "3                    0.0                    0.0                    0.0   \n",
       "4                    0.0                    0.0                    0.0   \n",
       "\n",
       "   onehotencoder__x0_A04  onehotencoder__x0_A05  ...  onehotencoder__x1_9+9  \\\n",
       "0                    0.0                    0.0  ...                    0.0   \n",
       "1                    0.0                    0.0  ...                    0.0   \n",
       "2                    0.0                    0.0  ...                    0.0   \n",
       "3                    0.0                    0.0  ...                    0.0   \n",
       "4                    0.0                    0.0  ...                    0.0   \n",
       "\n",
       "   onehotencoder__x1_90+0  onehotencoder__x1_90+120  onehotencoder__x1_90+30  \\\n",
       "0                     0.0                       0.0                      0.0   \n",
       "1                     0.0                       0.0                      0.0   \n",
       "2                     0.0                       0.0                      0.0   \n",
       "3                     0.0                       0.0                      0.0   \n",
       "4                     0.0                       0.0                      0.0   \n",
       "\n",
       "   onehotencoder__x1_90+5  onehotencoder__x1_90+8  onehotencoder__x2_draw  \\\n",
       "0                     0.0                     0.0                     0.0   \n",
       "1                     0.0                     0.0                     0.0   \n",
       "2                     0.0                     0.0                     0.0   \n",
       "3                     0.0                     0.0                     0.0   \n",
       "4                     0.0                     0.0                     0.0   \n",
       "\n",
       "   onehotencoder__x2_mate  onehotencoder__x2_outoftime  \\\n",
       "0                     0.0                          1.0   \n",
       "1                     0.0                          0.0   \n",
       "2                     1.0                          0.0   \n",
       "3                     1.0                          0.0   \n",
       "4                     1.0                          0.0   \n",
       "\n",
       "   onehotencoder__x2_resign  \n",
       "0                       0.0  \n",
       "1                       1.0  \n",
       "2                       0.0  \n",
       "3                       0.0  \n",
       "4                       0.0  \n",
       "\n",
       "[5 rows x 773 columns]"
      ]
     },
     "execution_count": 96,
     "metadata": {},
     "output_type": "execute_result"
    }
   ],
   "source": [
    "## Inspect META\n",
    "META.head()"
   ]
  },
  {
   "cell_type": "markdown",
   "metadata": {
    "tags": []
   },
   "source": [
    "## UMAP model\n",
    "\n",
    "---\n",
    "\n",
    "Parameters:"
   ]
  },
  {
   "cell_type": "code",
   "execution_count": 97,
   "metadata": {},
   "outputs": [],
   "source": [
    "distance_metric = 'cosine'\n",
    "# metrics_available = euclidean, manhattan, chebyshev, minkowski, canberra, braycurtis, mahalanobis,\n",
    "# wminkowski, seuclidean, cosine, correlation, haversine, hamming, jaccard, dice, russelrao, kulsinski,\n",
    "# ll_dirichlet, hellinger, rogerstanimoto, sokalmichener, sokalsneath, yule\n",
    "\n",
    "n_neighbors = 20\n",
    "min_dist = 0.1"
   ]
  },
  {
   "cell_type": "markdown",
   "metadata": {},
   "source": [
    "Instatiate & train the model:"
   ]
  },
  {
   "cell_type": "code",
   "execution_count": 98,
   "metadata": {},
   "outputs": [],
   "source": [
    "## Instantiate UMAP model\n",
    "reducer = umap.UMAP(metric=distance_metric,\n",
    "                   n_neighbors=n_neighbors,\n",
    "                   min_dist=min_dist,\n",
    "                   n_epochs=500)"
   ]
  },
  {
   "cell_type": "code",
   "execution_count": 99,
   "metadata": {},
   "outputs": [],
   "source": [
    "MOVES_V.index.rename('id',inplace=True)"
   ]
  },
  {
   "cell_type": "code",
   "execution_count": 100,
   "metadata": {},
   "outputs": [],
   "source": [
    "MOVES_V.reset_index(drop=True, inplace=True)"
   ]
  },
  {
   "cell_type": "code",
   "execution_count": 101,
   "metadata": {},
   "outputs": [],
   "source": [
    "MOVES_V.to_csv('./vec.csv')"
   ]
  },
  {
   "cell_type": "code",
   "execution_count": 102,
   "metadata": {
    "scrolled": false
   },
   "outputs": [
    {
     "name": "stderr",
     "output_type": "stream",
     "text": [
      "/home/nef/anaconda3/lib/python3.8/site-packages/pynndescent/pynndescent_.py:891: UserWarning: Failed to correctly find n_neighbors for some samples.Results may be less than ideal. Try re-running withdifferent parameters.\n",
      "  warn(\n",
      "/home/nef/anaconda3/lib/python3.8/site-packages/umap/umap_.py:125: UserWarning: A few of your vertices were disconnected from the manifold.  This shouldn't cause problems.\n",
      "Disconnection_distance = 2 has removed 0 edges.\n",
      "It has only fully disconnected 196 vertices.\n",
      "Use umap.utils.disconnected_vertices() to identify them.\n",
      "  warn(\n"
     ]
    }
   ],
   "source": [
    "## Train the model\n",
    "embedding = reducer.fit_transform(MOVES_V)"
   ]
  },
  {
   "cell_type": "code",
   "execution_count": 122,
   "metadata": {},
   "outputs": [],
   "source": [
    "EMBEDDING_DF = pd.DataFrame(embedding, columns=['x','y'])\n",
    "EMBEDDING_DF = EMBEDDING_DF.fillna(0)"
   ]
  },
  {
   "cell_type": "markdown",
   "metadata": {
    "tags": []
   },
   "source": [
    "---\n",
    "\n",
    "## Plot\n",
    "\n",
    "---\n",
    "\n",
    "Parameters:"
   ]
  },
  {
   "cell_type": "code",
   "execution_count": 128,
   "metadata": {},
   "outputs": [],
   "source": [
    "## switches\n",
    "cbar_switch = True\n",
    "\n",
    "## display\n",
    "alpha = 0.9\n",
    "marker_shape = 'o'\n",
    "marker_size = 4\n",
    "dpi = 300\n",
    "\n",
    "## data\n",
    "cmap_variable = EMBEDDING_DF['y']\n",
    "\n",
    "## colors\n",
    "facecolor = 'black'\n",
    "labelcolor = 'white'\n",
    "cmap = 'viridis'"
   ]
  },
  {
   "cell_type": "markdown",
   "metadata": {},
   "source": [
    "Plot script:"
   ]
  },
  {
   "cell_type": "code",
   "execution_count": 129,
   "metadata": {},
   "outputs": [
    {
     "data": {
      "image/png": "[encoded data removed]",
      "text/plain": [
       "<Figure size 1008x864 with 2 Axes>"
      ]
     },
     "metadata": {},
     "output_type": "display_data"
    }
   ],
   "source": [
    "## Render vis\n",
    "fig = plt.figure(figsize=(14,12))\n",
    "fig.patch.set_facecolor(facecolor)\n",
    "\n",
    "plot = plt.scatter(EMBEDDING_DF['x'], \n",
    "                EMBEDDING_DF['y'], \n",
    "                marker=marker_shape,\n",
    "                s=marker_size,\n",
    "                edgecolor='none',\n",
    "                c=cmap_variable,\n",
    "                cmap='viridis', \n",
    "                alpha=alpha)\n",
    "\n",
    "plt.axis(\"off\")\n",
    "plt.title(f'20k chess games; distance={distance_metric}; nn={n_neighbors}, min=dist={min_dist}', \n",
    "          color='w')\n",
    "\n",
    "if cbar_switch:\n",
    "    cbar = plt.colorbar(fraction=0.05, \n",
    "                    shrink=0.5,\n",
    "                    ticks=[cmap_variable.min(), \n",
    "                    np.quantile(cmap_variable,0.50),\n",
    "                    np.quantile(cmap_variable,0.75),\n",
    "                    cmap_variable.max()], alpha=alpha\n",
    "                           )\n",
    "\n",
    "    cbar.set_label('embedding Y', color=labelcolor)\n",
    "    cbar.ax.yaxis.set_tick_params(color=labelcolor)\n",
    "    cbar.solids.set_edgecolor(\"face\")\n",
    "\n",
    "plt.setp(plt.getp(cbar.ax.axes, 'yticklabels'), color=labelcolor)\n",
    "\n",
    "_ = plot\n",
    "\n",
    "# plt.savefig(f\"screens/{distance_metric}_nn{n_neighbors}_mind{min_dist}_v{notebook_ver}.png\", \n",
    "#             dpi=dpi, \n",
    "#             facecolor=facecolor)"
   ]
  },
  {
   "cell_type": "code",
   "execution_count": null,
   "metadata": {},
   "outputs": [],
   "source": []
  }
 ],
 "metadata": {
  "kernelspec": {
   "display_name": "Python 3 (ipykernel)",
   "language": "python",
   "name": "python3"
  },
  "language_info": {
   "codemirror_mode": {
    "name": "ipython",
    "version": 3
   },
   "file_extension": ".py",
   "mimetype": "text/x-python",
   "name": "python",
   "nbconvert_exporter": "python",
   "pygments_lexer": "ipython3",
   "version": "3.8.3"
  }
 },
 "nbformat": 4,
 "nbformat_minor": 4
}
