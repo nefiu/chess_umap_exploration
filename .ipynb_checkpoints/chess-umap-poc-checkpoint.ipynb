{
 "cells": [
  {
   "cell_type": "markdown",
   "metadata": {},
   "source": [
    "# UMAP chess dataset EDA\n",
    "\n",
    "---"
   ]
  },
  {
   "cell_type": "markdown",
   "metadata": {},
   "source": [
    "## Staging\n",
    "\n",
    "---\n",
    "\n",
    "import section:"
   ]
  },
  {
   "cell_type": "code",
   "execution_count": null,
   "metadata": {},
   "outputs": [],
   "source": [
    "import pandas as pd\n",
    "import numpy as np\n",
    "\n",
    "from matplotlib import pyplot as plt\n",
    "\n",
    "import umap\n",
    "\n",
    "from sklearn.preprocessing import OneHotEncoder\n",
    "from sklearn.feature_extraction.text import CountVectorizer\n",
    "from sklearn.compose import make_column_transformer"
   ]
  },
  {
   "cell_type": "markdown",
   "metadata": {},
   "source": [
    "general parameters:"
   ]
  },
  {
   "cell_type": "code",
   "execution_count": null,
   "metadata": {},
   "outputs": [],
   "source": [
    "## metadata\n",
    "notebook_ver = 0.3\n",
    "\n",
    "## dataset\n",
    "data_pth = './data/games.csv'\n",
    "\n",
    "# ## Define nominal data variables to be thrown at one-hot-encoder\n",
    "# to_hot_encode = [\n",
    "#     'opening_eco',\n",
    "#     'increment_code',\n",
    "#     'victory_status'\n",
    "# ]\n",
    "\n",
    "# ## Define string variables for vectorization\n",
    "# to_vectorize = [\n",
    "#     'white_id',\n",
    "#     'black_id'\n",
    "# ]\n",
    "\n",
    "# ## Define numerical cols to use\n",
    "# num_cols = [\n",
    "#     'winner_bin',\n",
    "#     'rated_bin',\n",
    "#     'game_len_mins',\n",
    "# #     'turns', # dense var\n",
    "# #     'white_rating', # dense var\n",
    "# #     'black_rating', # dense var\n",
    "#     'opening_ply'\n",
    "# ]"
   ]
  },
  {
   "cell_type": "markdown",
   "metadata": {},
   "source": [
    "Data load:"
   ]
  },
  {
   "cell_type": "code",
   "execution_count": null,
   "metadata": {},
   "outputs": [],
   "source": [
    "GAMES = pd.read_csv(data_pth)"
   ]
  },
  {
   "cell_type": "markdown",
   "metadata": {
    "tags": []
   },
   "source": [
    "## Preprocessing\n",
    "\n",
    "---"
   ]
  },
  {
   "cell_type": "code",
   "execution_count": null,
   "metadata": {},
   "outputs": [],
   "source": [
    "## Encode binary vars to integers\n",
    "GAMES['rated_bin'] = np.where(GAMES['rated'] == True, 1, 0)\n",
    "\n",
    "GAMES.drop(columns='rated',\n",
    "          inplace=True)"
   ]
  },
  {
   "cell_type": "code",
   "execution_count": null,
   "metadata": {},
   "outputs": [],
   "source": [
    "GAMES['winner_bin'] = np.where(GAMES['winner'] == 'white', 0, 1)\n",
    "\n",
    "GAMES.drop(columns='winner',\n",
    "          inplace=True)"
   ]
  },
  {
   "cell_type": "code",
   "execution_count": null,
   "metadata": {},
   "outputs": [],
   "source": [
    "## Opening, closing games dates transformation\n",
    "GAMES['created_at_dt'] = pd.to_datetime(GAMES['created_at']/1000, unit='s', origin='unix')\n",
    "GAMES['last_move_at_dt'] = pd.to_datetime(GAMES['last_move_at']/1000, unit='s', origin='unix')\n",
    "\n",
    "GAMES['game_len_dt'] = GAMES['last_move_at_dt'] - GAMES['created_at_dt']\n",
    "GAMES['game_len'] = GAMES['last_move_at'] - GAMES['created_at']\n",
    "\n",
    "GAMES['game_len_mins'] = GAMES['game_len_dt'].dt.components['minutes']"
   ]
  },
  {
   "cell_type": "markdown",
   "metadata": {},
   "source": [
    "## Part 1 - Metadata table\n",
    "\n",
    "---"
   ]
  },
  {
   "cell_type": "code",
   "execution_count": null,
   "metadata": {},
   "outputs": [],
   "source": [
    "# ## Instantiate One Hot Encoder\n",
    "# ohe = OneHotEncoder(handle_unknown='error')"
   ]
  },
  {
   "cell_type": "code",
   "execution_count": null,
   "metadata": {},
   "outputs": [],
   "source": [
    "# ## Instantiate Count Vectorizer\n",
    "# cve = CountVectorizer()"
   ]
  },
  {
   "cell_type": "code",
   "execution_count": null,
   "metadata": {},
   "outputs": [],
   "source": [
    "# ## Set column transformer\n",
    "# column_trans = make_column_transformer((ohe,to_hot_encode),\n",
    "#                                        remainder='passthrough')"
   ]
  },
  {
   "cell_type": "code",
   "execution_count": null,
   "metadata": {},
   "outputs": [],
   "source": [
    "# ## Fit column transformer\n",
    "# column_trans.fit(GAMES[to_hot_encode])"
   ]
  },
  {
   "cell_type": "code",
   "execution_count": null,
   "metadata": {},
   "outputs": [],
   "source": [
    "# ## Produce one-hot-encoded array \n",
    "# hot_array = column_trans.transform(games[to_hot_encode]).toarray()\n",
    "\n",
    "# HOT_ENCODED = pd.DataFrame(hot_array, \n",
    "#                               columns = column_trans.get_feature_names())"
   ]
  },
  {
   "cell_type": "code",
   "execution_count": null,
   "metadata": {},
   "outputs": [],
   "source": [
    "# ## Form final dataframe\n",
    "# META = GAMES[num_cols].merge(HOT_ENCODED,\n",
    "#                      left_index=True,\n",
    "#                      right_index=True)"
   ]
  },
  {
   "cell_type": "markdown",
   "metadata": {},
   "source": [
    "### Metadata table"
   ]
  },
  {
   "cell_type": "code",
   "execution_count": null,
   "metadata": {},
   "outputs": [],
   "source": [
    "# META"
   ]
  },
  {
   "cell_type": "markdown",
   "metadata": {},
   "source": [
    "## Part 2 - Vectorized moves table\n",
    "\n",
    "---"
   ]
  },
  {
   "cell_type": "code",
   "execution_count": null,
   "metadata": {},
   "outputs": [],
   "source": [
    "## create a algebraic notation to iccf notation board mapping\n",
    "# iccf_board = [str(x)+str(y) for x in range(1,9) for y in range(1,9)]\n",
    "# algebraic_board = [l + str(i) for l in list('abcdefgh') for i in range(1,9)]\n",
    "# board_mapping = {algebraic : iccf for algebraic, iccf in zip(algebraic_board, iccf_board)}"
   ]
  },
  {
   "cell_type": "code",
   "execution_count": null,
   "metadata": {},
   "outputs": [],
   "source": [
    "GAMES.columns"
   ]
  },
  {
   "cell_type": "code",
   "execution_count": null,
   "metadata": {},
   "outputs": [],
   "source": [
    "def to_uni(mov):\n",
    "    '''\n",
    "    Turn str move encoding into a sequence of Unicode values\n",
    "    '''\n",
    "    move_unicode = []\n",
    "    for char in mov:\n",
    "        move_unicode.append(ord(char))\n",
    "    return move_unicode"
   ]
  },
  {
   "cell_type": "code",
   "execution_count": null,
   "metadata": {},
   "outputs": [],
   "source": [
    "def encode_moves(moves_seq):\n",
    "    '''\n",
    "    Encode move into an integer = 1*e^10\n",
    "    '''\n",
    "    moves = []\n",
    "    for move in moves_seq.split(' '):\n",
    "        ## Convert str encoding to unicode vals\n",
    "        move_uni = to_uni(move)\n",
    "        ## Multiply all unicode vals together\n",
    "        move_prod = np.prod(np.array(move_uni))  \n",
    "        ## Take log2 for every move and multiply by 10_000_000\n",
    "        moves.append(int(np.log2(move_prod)*10_000_000))\n",
    "    return(moves)"
   ]
  },
  {
   "cell_type": "code",
   "execution_count": null,
   "metadata": {},
   "outputs": [],
   "source": [
    "## Encode moves into separate variable\n",
    "GAMES['moves_encoded'] = GAMES['moves'].apply(lambda x: encode_moves(x))"
   ]
  },
  {
   "cell_type": "code",
   "execution_count": null,
   "metadata": {},
   "outputs": [],
   "source": [
    "## Check max() len of moves sequence in dataset\n",
    "GAMES['moves_len'] = GAMES['moves_encoded'].apply(len)\n",
    "moves_max = GAMES['moves_len'].max()"
   ]
  },
  {
   "cell_type": "code",
   "execution_count": null,
   "metadata": {},
   "outputs": [],
   "source": [
    "MOVES = GAMES[['moves_encoded','id']]"
   ]
  },
  {
   "cell_type": "code",
   "execution_count": null,
   "metadata": {},
   "outputs": [],
   "source": [
    "MOVES_EXPLODED = (MOVES\n",
    "                .explode(column='moves_encoded'))"
   ]
  },
  {
   "cell_type": "code",
   "execution_count": null,
   "metadata": {},
   "outputs": [],
   "source": [
    "MOVES_EXPLODED"
   ]
  },
  {
   "cell_type": "code",
   "execution_count": null,
   "metadata": {},
   "outputs": [],
   "source": [
    "MOVES_EXPLODED.iloc[1946]"
   ]
  },
  {
   "cell_type": "code",
   "execution_count": null,
   "metadata": {},
   "outputs": [],
   "source": [
    "from tqdm import tqdm_notebook, tnrange\n",
    "\n",
    "transposed_moves = []\n",
    "\n",
    "for game in tnrange(0, len(MOVES_EXPLODED.index.values)):\n",
    "    \n",
    "    \n",
    "    GRABBED_MOVES = MOVES_EXPLODED.loc[game]\n",
    "    \n",
    "    cols = range(1,len(GRABBED_MOVES)+1)\n",
    "    game_id = GRABBED_MOVES['id']\n",
    "    \n",
    "    \n",
    "    if type(game_id) != str:\n",
    "        game_id = game_id.values[0]\n",
    "    \n",
    "    \n",
    "    GRABBED_MOVES = GRABBED_MOVES.drop(columns='id')\n",
    "    \n",
    "    TRANS_MOVES = pd.DataFrame(GRABBED_MOVES).T\n",
    "    \n",
    "    TRANS_MOVES.index = [game_id]\n",
    "    TRANS_MOVES.columns = cols\n",
    "\n",
    "    transposed_moves.append(TRANS_MOVES)"
   ]
  },
  {
   "cell_type": "code",
   "execution_count": null,
   "metadata": {},
   "outputs": [],
   "source": [
    "MOVES_TRANS = concat(transposed_moves)"
   ]
  },
  {
   "cell_type": "code",
   "execution_count": null,
   "metadata": {},
   "outputs": [],
   "source": [
    "MOVES_TRANS.to_csv('./moves_trans.csv')"
   ]
  },
  {
   "cell_type": "markdown",
   "metadata": {},
   "source": [
    "# @@@ Cell > Run All Above @@@"
   ]
  },
  {
   "cell_type": "code",
   "execution_count": null,
   "metadata": {},
   "outputs": [],
   "source": []
  },
  {
   "cell_type": "code",
   "execution_count": null,
   "metadata": {},
   "outputs": [],
   "source": []
  },
  {
   "cell_type": "code",
   "execution_count": null,
   "metadata": {},
   "outputs": [],
   "source": []
  },
  {
   "cell_type": "code",
   "execution_count": null,
   "metadata": {},
   "outputs": [],
   "source": [
    "games_s['moves_class']."
   ]
  },
  {
   "cell_type": "code",
   "execution_count": null,
   "metadata": {},
   "outputs": [],
   "source": []
  },
  {
   "cell_type": "code",
   "execution_count": null,
   "metadata": {},
   "outputs": [],
   "source": [
    "games[['moves_win','winner_bin']]"
   ]
  },
  {
   "cell_type": "markdown",
   "metadata": {
    "tags": []
   },
   "source": [
    "## UMAP model\n",
    "\n",
    "---\n",
    "\n",
    "Parameters:"
   ]
  },
  {
   "cell_type": "code",
   "execution_count": null,
   "metadata": {},
   "outputs": [],
   "source": [
    "distance_metric = 'euclidean'\n",
    "# metrics_available = euclidean, manhattan, chebyshev, minkowski, canberra, braycurtis, mahalanobis,\n",
    "# wminkowski, seuclidean, cosine, correlation, haversine, hamming, jaccard, dice, russelrao, kulsinski,\n",
    "# ll_dirichlet, hellinger, rogerstanimoto, sokalmichener, sokalsneath, yule\n",
    "\n",
    "n_neighbors = 15\n",
    "min_dist = 0.2"
   ]
  },
  {
   "cell_type": "markdown",
   "metadata": {},
   "source": [
    "Instatiate & train the model:"
   ]
  },
  {
   "cell_type": "code",
   "execution_count": null,
   "metadata": {},
   "outputs": [],
   "source": [
    "## Instantiate UMAP model\n",
    "reducer = umap.UMAP(metric=distance_metric,\n",
    "                   n_neighbors=n_neighbors,\n",
    "                   min_dist=min_dist)"
   ]
  },
  {
   "cell_type": "code",
   "execution_count": null,
   "metadata": {},
   "outputs": [],
   "source": [
    "## Train the model\n",
    "embedding = reducer.fit_transform(hot_df)"
   ]
  },
  {
   "cell_type": "markdown",
   "metadata": {
    "tags": []
   },
   "source": [
    "---\n",
    "\n",
    "## Plot\n",
    "\n",
    "---\n",
    "\n",
    "Parameters:"
   ]
  },
  {
   "cell_type": "code",
   "execution_count": null,
   "metadata": {},
   "outputs": [],
   "source": [
    "## switches\n",
    "cbar_switch = True\n",
    "\n",
    "## display\n",
    "alpha = 1\n",
    "marker_shape = 'o'\n",
    "marker_size = 2\n",
    "dpi = 300\n",
    "\n",
    "## data\n",
    "cmap_variable = games['game_len_mins']\n",
    "\n",
    "## colors\n",
    "facecolor = 'black'\n",
    "labelcolor = 'white'\n",
    "cmap = 'viridis'"
   ]
  },
  {
   "cell_type": "markdown",
   "metadata": {},
   "source": [
    "Plot script:"
   ]
  },
  {
   "cell_type": "code",
   "execution_count": null,
   "metadata": {},
   "outputs": [],
   "source": [
    "## Render vis\n",
    "fig = plt.figure(figsize=(14,12))\n",
    "fig.patch.set_facecolor(facecolor)\n",
    "\n",
    "plot = plt.scatter(embedding[:,0], \n",
    "                embedding[:,1], \n",
    "                marker=marker_shape,\n",
    "                s=marker_size,\n",
    "                edgecolor='none',\n",
    "                c=cmap_variable,\n",
    "                cmap='viridis', \n",
    "                alpha=alpha)\n",
    "\n",
    "plt.axis(\"off\")\n",
    "plt.title(f'20k chess games; distance={distance_metric}; nn={n_neighbors}, min=dist={min_dist}', \n",
    "          color='w')\n",
    "\n",
    "if cbar_switch:\n",
    "    cbar = plt.colorbar(fraction=0.05, \n",
    "                    shrink=0.5,\n",
    "                    ticks=[games['game_len_mins'].min(), \n",
    "                        games['game_len_mins'].quantile(q=0.50),\n",
    "                        games['game_len_mins'].quantile(q=0.75),\n",
    "                        games['game_len_mins'].max()], alpha=alpha\n",
    "                           )\n",
    "\n",
    "    cbar.set_label(cmap_variable.name, color=labelcolor)\n",
    "    cbar.ax.yaxis.set_tick_params(color=labelcolor)\n",
    "    cbar.solids.set_edgecolor(\"face\")\n",
    "\n",
    "plt.setp(plt.getp(cbar.ax.axes, 'yticklabels'), color=labelcolor)\n",
    "\n",
    "_ = plot\n",
    "\n",
    "# plt.savefig(f\"screens/{distance_metric}_nn{n_neighbors}_mind{min_dist}_v{notebook_ver}.png\", \n",
    "#             dpi=dpi, \n",
    "#             facecolor=facecolor)"
   ]
  },
  {
   "cell_type": "code",
   "execution_count": null,
   "metadata": {},
   "outputs": [],
   "source": []
  }
 ],
 "metadata": {
  "kernelspec": {
   "display_name": "Python 3 (ipykernel)",
   "language": "python",
   "name": "python3"
  },
  "language_info": {
   "codemirror_mode": {
    "name": "ipython",
    "version": 3
   },
   "file_extension": ".py",
   "mimetype": "text/x-python",
   "name": "python",
   "nbconvert_exporter": "python",
   "pygments_lexer": "ipython3",
   "version": "3.8.3"
  }
 },
 "nbformat": 4,
 "nbformat_minor": 4
}
