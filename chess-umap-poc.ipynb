{
 "cells": [
  {
   "cell_type": "markdown",
   "metadata": {},
   "source": [
    "# UMAP chess dataset EDA\n",
    "\n",
    "---"
   ]
  },
  {
   "cell_type": "markdown",
   "metadata": {},
   "source": [
    "## 1. Staging\n",
    "\n",
    "---\n",
    "\n",
    "import section:"
   ]
  },
  {
   "cell_type": "code",
   "execution_count": 34,
   "metadata": {},
   "outputs": [],
   "source": [
    "import pandas as pd\n",
    "import numpy as np\n",
    "\n",
    "from matplotlib import pyplot as plt\n",
    "\n",
    "import umap\n",
    "\n",
    "from sklearn.preprocessing import OneHotEncoder\n",
    "from sklearn.feature_extraction.text import CountVectorizer\n",
    "from sklearn.compose import make_column_transformer\n",
    "\n",
    "import tqdm.notebook as tqn"
   ]
  },
  {
   "cell_type": "markdown",
   "metadata": {},
   "source": [
    "### 1.1 Project parametrisation\n",
    "\n",
    "1. General parameters\n",
    "2. Vectorized moves table\n",
    "3. Metadata table"
   ]
  },
  {
   "cell_type": "markdown",
   "metadata": {},
   "source": [
    "#### 1.1.1 General parameters"
   ]
  },
  {
   "cell_type": "code",
   "execution_count": 2,
   "metadata": {},
   "outputs": [],
   "source": [
    "## project\n",
    "notebook_ver = 0.3\n",
    "## input dataset\n",
    "data_pth = './data/games.csv'"
   ]
  },
  {
   "cell_type": "markdown",
   "metadata": {},
   "source": [
    "#### 1.1.2 Vectorized moves table parameters"
   ]
  },
  {
   "cell_type": "markdown",
   "metadata": {},
   "source": [
    "#### 1.1.3 Metadata table params"
   ]
  },
  {
   "cell_type": "code",
   "execution_count": 3,
   "metadata": {},
   "outputs": [],
   "source": [
    "## Define nominal data variables to be thrown at one-hot-encoder\n",
    "to_hot_encode = [\n",
    "    'opening_eco',\n",
    "    'increment_code',\n",
    "    'victory_status'\n",
    "]\n",
    "\n",
    "## Define string variables for str vectorization\n",
    "to_vectorize = [\n",
    "    'white_id',\n",
    "    'black_id'\n",
    "]\n",
    "\n",
    "## Define numerical cols to use\n",
    "num_cols = [\n",
    "    'winner_bin',\n",
    "    'rated_bin',\n",
    "    'game_len_mins',\n",
    "#     'turns', # dense var\n",
    "#     'white_rating', # dense var\n",
    "#     'black_rating', # dense var\n",
    "    'opening_ply'\n",
    "]"
   ]
  },
  {
   "cell_type": "markdown",
   "metadata": {},
   "source": [
    "### 1.2 Functions"
   ]
  },
  {
   "cell_type": "code",
   "execution_count": 4,
   "metadata": {},
   "outputs": [],
   "source": [
    "def to_uni(mov):\n",
    "    '''\n",
    "    Turn str move encoding into a sequence of Unicode values\n",
    "    '''\n",
    "    move_unicode = []\n",
    "    for char in str(mov):\n",
    "        move_unicode.append(ord(char))\n",
    "    return move_unicode"
   ]
  },
  {
   "cell_type": "code",
   "execution_count": 5,
   "metadata": {},
   "outputs": [],
   "source": [
    "def encode_moves(moves_seq):\n",
    "    '''\n",
    "    Encode move into an integer = 1*e^10\n",
    "    '''\n",
    "    moves = []\n",
    "\n",
    "    for move in moves_seq.split(' '):\n",
    "        ## Convert str encoding to unicode vals\n",
    "        move_uni = to_uni(move)\n",
    "        ## Multiply all unicode vals together\n",
    "        move_prod = np.prod(np.array(move_uni))  \n",
    "        ## Take log2 for every move and multiply by 10_000_000\n",
    "        moves.append(int(np.log2(move_prod)*10_000_000))\n",
    "    return(moves)"
   ]
  },
  {
   "cell_type": "markdown",
   "metadata": {},
   "source": [
    "### 1.3 Data load "
   ]
  },
  {
   "cell_type": "code",
   "execution_count": 6,
   "metadata": {},
   "outputs": [],
   "source": [
    "GAMES = pd.read_csv(data_pth)"
   ]
  },
  {
   "cell_type": "markdown",
   "metadata": {
    "tags": []
   },
   "source": [
    "## 2. Preprocessing & initial dataset exploration\n",
    "\n",
    "---"
   ]
  },
  {
   "cell_type": "code",
   "execution_count": 7,
   "metadata": {},
   "outputs": [],
   "source": [
    "## Encode binary variables to integers\n",
    "GAMES['rated_bin'] = np.where(GAMES['rated'] == True, 1, 0)\n",
    "\n",
    "GAMES.drop(columns='rated',\n",
    "          inplace=True)"
   ]
  },
  {
   "cell_type": "code",
   "execution_count": 8,
   "metadata": {},
   "outputs": [],
   "source": [
    "GAMES['winner_bin'] = np.where(GAMES['winner'] == 'white', 0, 1)\n",
    "\n",
    "GAMES.drop(columns='winner',\n",
    "          inplace=True)"
   ]
  },
  {
   "cell_type": "code",
   "execution_count": 9,
   "metadata": {},
   "outputs": [],
   "source": [
    "## Opening, closing games dates transformation\n",
    "GAMES['created_at_dt'] = pd.to_datetime(GAMES['created_at']/1000, unit='s', origin='unix')\n",
    "GAMES['last_move_at_dt'] = pd.to_datetime(GAMES['last_move_at']/1000, unit='s', origin='unix')\n",
    "\n",
    "GAMES['game_len_dt'] = GAMES['last_move_at_dt'] - GAMES['created_at_dt']\n",
    "GAMES['game_len'] = GAMES['last_move_at'] - GAMES['created_at']\n",
    "\n",
    "GAMES['game_len_mins'] = GAMES['game_len_dt'].dt.components['minutes']"
   ]
  },
  {
   "cell_type": "markdown",
   "metadata": {},
   "source": [
    "## 3. Vector formation\n",
    "\n",
    "---"
   ]
  },
  {
   "cell_type": "markdown",
   "metadata": {},
   "source": [
    "### 3.1 Vectorized moves table"
   ]
  },
  {
   "cell_type": "code",
   "execution_count": 10,
   "metadata": {},
   "outputs": [],
   "source": [
    "## create a algebraic notation to iccf notation board mapping\n",
    "# iccf_board = [str(x)+str(y) for x in range(1,9) for y in range(1,9)]\n",
    "# algebraic_board = [l + str(i) for l in list('abcdefgh') for i in range(1,9)]\n",
    "# board_mapping = {algebraic : iccf for algebraic, iccf in zip(algebraic_board, iccf_board)}"
   ]
  },
  {
   "cell_type": "code",
   "execution_count": 11,
   "metadata": {},
   "outputs": [
    {
     "data": {
      "text/plain": [
       "Index(['id', 'created_at', 'last_move_at', 'turns', 'victory_status',\n",
       "       'increment_code', 'white_id', 'white_rating', 'black_id',\n",
       "       'black_rating', 'moves', 'opening_eco', 'opening_name', 'opening_ply',\n",
       "       'rated_bin', 'winner_bin', 'created_at_dt', 'last_move_at_dt',\n",
       "       'game_len_dt', 'game_len', 'game_len_mins'],\n",
       "      dtype='object')"
      ]
     },
     "execution_count": 11,
     "metadata": {},
     "output_type": "execute_result"
    }
   ],
   "source": [
    "GAMES.columns"
   ]
  },
  {
   "cell_type": "code",
   "execution_count": 12,
   "metadata": {},
   "outputs": [],
   "source": [
    "## Encode moves into separate variable\n",
    "GAMES['moves_encoded'] = GAMES['moves'].apply(lambda x: encode_moves(x))"
   ]
  },
  {
   "cell_type": "code",
   "execution_count": 20,
   "metadata": {},
   "outputs": [],
   "source": [
    "GAMES.reset_index(inplace=True)"
   ]
  },
  {
   "cell_type": "code",
   "execution_count": 21,
   "metadata": {},
   "outputs": [],
   "source": [
    "## Check max() len of moves sequence in dataset\n",
    "moves_max = GAMES['turns'].max()"
   ]
  },
  {
   "cell_type": "code",
   "execution_count": 22,
   "metadata": {},
   "outputs": [
    {
     "data": {
      "text/html": [
       "<div>\n",
       "<style scoped>\n",
       "    .dataframe tbody tr th:only-of-type {\n",
       "        vertical-align: middle;\n",
       "    }\n",
       "\n",
       "    .dataframe tbody tr th {\n",
       "        vertical-align: top;\n",
       "    }\n",
       "\n",
       "    .dataframe thead th {\n",
       "        text-align: right;\n",
       "    }\n",
       "</style>\n",
       "<table border=\"1\" class=\"dataframe\">\n",
       "  <thead>\n",
       "    <tr style=\"text-align: right;\">\n",
       "      <th></th>\n",
       "      <th>moves_encoded</th>\n",
       "      <th>id</th>\n",
       "    </tr>\n",
       "  </thead>\n",
       "  <tbody>\n",
       "    <tr>\n",
       "      <th>0</th>\n",
       "      <td>[123442959, 123717766, 123297963, 123842441, 2...</td>\n",
       "      <td>TZJHLljE</td>\n",
       "    </tr>\n",
       "    <tr>\n",
       "      <th>1</th>\n",
       "      <td>[123442959, 186696463, 123586512, 123861319, 1...</td>\n",
       "      <td>l1NXvwaE</td>\n",
       "    </tr>\n",
       "    <tr>\n",
       "      <th>2</th>\n",
       "      <td>[123586512, 123861319, 123162815, 123987436, 1...</td>\n",
       "      <td>mIICvQHh</td>\n",
       "    </tr>\n",
       "    <tr>\n",
       "      <th>3</th>\n",
       "      <td>[123442959, 123717766, 186302529, 184447399, 1...</td>\n",
       "      <td>kWKvrqYL</td>\n",
       "    </tr>\n",
       "    <tr>\n",
       "      <th>4</th>\n",
       "      <td>[123586512, 123861319, 186302529, 123987436, 1...</td>\n",
       "      <td>9tXo1AUZ</td>\n",
       "    </tr>\n",
       "    <tr>\n",
       "      <th>...</th>\n",
       "      <td>...</td>\n",
       "      <td>...</td>\n",
       "    </tr>\n",
       "    <tr>\n",
       "      <th>20053</th>\n",
       "      <td>[123442959, 124003457, 123306368, 124130989, 1...</td>\n",
       "      <td>EfqH7VVH</td>\n",
       "    </tr>\n",
       "    <tr>\n",
       "      <th>20054</th>\n",
       "      <td>[123442959, 123987436, 184172591, 123861319, 1...</td>\n",
       "      <td>WSJDhbPl</td>\n",
       "    </tr>\n",
       "    <tr>\n",
       "      <th>20055</th>\n",
       "      <td>[123442959, 123717766, 184172591, 186696463, 1...</td>\n",
       "      <td>yrAas0Kj</td>\n",
       "    </tr>\n",
       "    <tr>\n",
       "      <th>20056</th>\n",
       "      <td>[123586512, 123987436, 123442959, 187127150, 1...</td>\n",
       "      <td>b0v4tRyF</td>\n",
       "    </tr>\n",
       "    <tr>\n",
       "      <th>20057</th>\n",
       "      <td>[123442959, 123717766, 184172591, 186402025, 1...</td>\n",
       "      <td>N8G2JHGG</td>\n",
       "    </tr>\n",
       "  </tbody>\n",
       "</table>\n",
       "<p>20058 rows × 2 columns</p>\n",
       "</div>"
      ],
      "text/plain": [
       "                                           moves_encoded        id\n",
       "0      [123442959, 123717766, 123297963, 123842441, 2...  TZJHLljE\n",
       "1      [123442959, 186696463, 123586512, 123861319, 1...  l1NXvwaE\n",
       "2      [123586512, 123861319, 123162815, 123987436, 1...  mIICvQHh\n",
       "3      [123442959, 123717766, 186302529, 184447399, 1...  kWKvrqYL\n",
       "4      [123586512, 123861319, 186302529, 123987436, 1...  9tXo1AUZ\n",
       "...                                                  ...       ...\n",
       "20053  [123442959, 124003457, 123306368, 124130989, 1...  EfqH7VVH\n",
       "20054  [123442959, 123987436, 184172591, 123861319, 1...  WSJDhbPl\n",
       "20055  [123442959, 123717766, 184172591, 186696463, 1...  yrAas0Kj\n",
       "20056  [123586512, 123987436, 123442959, 187127150, 1...  b0v4tRyF\n",
       "20057  [123442959, 123717766, 184172591, 186402025, 1...  N8G2JHGG\n",
       "\n",
       "[20058 rows x 2 columns]"
      ]
     },
     "execution_count": 22,
     "metadata": {},
     "output_type": "execute_result"
    }
   ],
   "source": [
    "## Create Moves Table\n",
    "MOVES = GAMES[['moves_encoded','id']]\n",
    "MOVES.reset_index(inplace=True, drop=True)\n",
    "\n",
    "MOVES"
   ]
  },
  {
   "cell_type": "code",
   "execution_count": 23,
   "metadata": {},
   "outputs": [],
   "source": [
    "## Form a vector out of moves_encoded variable\n",
    "MOVES_EXPLODED = (MOVES\n",
    "                .explode(column='moves_encoded'))"
   ]
  },
  {
   "cell_type": "code",
   "execution_count": 31,
   "metadata": {},
   "outputs": [
    {
     "data": {
      "text/plain": [
       "moves_encoded    123589258\n",
       "id                3K5kYPO8\n",
       "Name: 1946, dtype: object"
      ]
     },
     "execution_count": 31,
     "metadata": {},
     "output_type": "execute_result"
    }
   ],
   "source": [
    "MOVES_EXPLODED.loc[1946]"
   ]
  },
  {
   "cell_type": "code",
   "execution_count": 52,
   "metadata": {},
   "outputs": [
    {
     "data": {
      "application/vnd.jupyter.widget-view+json": {
       "model_id": "de2f9ec00cea49efaf2d40798419ba95",
       "version_major": 2,
       "version_minor": 0
      },
      "text/plain": [
       "  0%|          | 0/20058 [00:00<?, ?it/s]"
      ]
     },
     "metadata": {},
     "output_type": "display_data"
    },
    {
     "ename": "AttributeError",
     "evalue": "'str' object has no attribute 'values'",
     "output_type": "error",
     "traceback": [
      "\u001b[0;31m---------------------------------------------------------------------------\u001b[0m",
      "\u001b[0;31mAttributeError\u001b[0m                            Traceback (most recent call last)",
      "\u001b[0;32m/tmp/ipykernel_12513/3039355105.py\u001b[0m in \u001b[0;36m<module>\u001b[0;34m\u001b[0m\n\u001b[1;32m      7\u001b[0m \u001b[0;34m\u001b[0m\u001b[0m\n\u001b[1;32m      8\u001b[0m     \u001b[0;32mif\u001b[0m \u001b[0mtype\u001b[0m\u001b[0;34m(\u001b[0m\u001b[0mGRABBED_MOVES\u001b[0m\u001b[0;34m[\u001b[0m\u001b[0;34m'id'\u001b[0m\u001b[0;34m]\u001b[0m\u001b[0;34m)\u001b[0m \u001b[0;34m!=\u001b[0m \u001b[0mlist\u001b[0m\u001b[0;34m:\u001b[0m\u001b[0;34m\u001b[0m\u001b[0;34m\u001b[0m\u001b[0m\n\u001b[0;32m----> 9\u001b[0;31m         \u001b[0mgame_id\u001b[0m \u001b[0;34m=\u001b[0m \u001b[0mGRABBED_MOVES\u001b[0m\u001b[0;34m[\u001b[0m\u001b[0;34m'id'\u001b[0m\u001b[0;34m]\u001b[0m\u001b[0;34m.\u001b[0m\u001b[0mvalues\u001b[0m\u001b[0;34m[\u001b[0m\u001b[0;36m0\u001b[0m\u001b[0;34m]\u001b[0m\u001b[0;34m\u001b[0m\u001b[0;34m\u001b[0m\u001b[0m\n\u001b[0m\u001b[1;32m     10\u001b[0m         \u001b[0mGRABBED_MOVES\u001b[0m \u001b[0;34m=\u001b[0m \u001b[0mGRABBED_MOVES\u001b[0m\u001b[0;34m.\u001b[0m\u001b[0mdrop\u001b[0m\u001b[0;34m(\u001b[0m\u001b[0mcolumns\u001b[0m\u001b[0;34m=\u001b[0m\u001b[0;34m'id'\u001b[0m\u001b[0;34m)\u001b[0m\u001b[0;34m\u001b[0m\u001b[0;34m\u001b[0m\u001b[0m\n\u001b[1;32m     11\u001b[0m     \u001b[0;32melse\u001b[0m\u001b[0;34m:\u001b[0m\u001b[0;34m\u001b[0m\u001b[0;34m\u001b[0m\u001b[0m\n",
      "\u001b[0;31mAttributeError\u001b[0m: 'str' object has no attribute 'values'"
     ]
    }
   ],
   "source": [
    "transposed_moves = []\n",
    "\n",
    "for game in tqn.trange(0, len(MOVES_EXPLODED.index.unique())):\n",
    "    \n",
    "    GRABBED_MOVES = MOVES_EXPLODED.loc[game]\n",
    "    cols = range(1,len(GRABBED_MOVES)+1)\n",
    "    \n",
    "    if type(GRABBED_MOVES['id']) != list:\n",
    "        game_id = GRABBED_MOVES['id'].values[0]\n",
    "        GRABBED_MOVES = GRABBED_MOVES.drop(columns='id')\n",
    "    else:\n",
    "        game_id = GRABBED_MOVES['id']\n",
    "        GRABBED_MOVES = GRABBED_MOVES.iloc[0]\n",
    "    \n",
    "    \n",
    "    \n",
    "    \n",
    "        \n",
    "    \n",
    "    if game == 1946:\n",
    "        print(GRABBED_MOVES)\n",
    "        break\n",
    "    \n",
    "    TRANS_MOVES = pd.DataFrame(GRABBED_MOVES).T\n",
    "    \n",
    "    \n",
    "    TRANS_MOVES.index = [game_id]\n",
    "    TRANS_MOVES.columns = cols\n",
    "\n",
    "    transposed_moves.append(TRANS_MOVES)"
   ]
  },
  {
   "cell_type": "code",
   "execution_count": 36,
   "metadata": {},
   "outputs": [],
   "source": [
    "MOVES_TRANS = pd.concat(transposed_moves)"
   ]
  },
  {
   "cell_type": "code",
   "execution_count": 37,
   "metadata": {},
   "outputs": [],
   "source": [
    "MOVES_TRANS.fillna(0, inplace=True)"
   ]
  },
  {
   "cell_type": "code",
   "execution_count": 39,
   "metadata": {},
   "outputs": [
    {
     "data": {
      "text/plain": [
       "1      123589258\n",
       "2       3K5kYPO8\n",
       "3              0\n",
       "4              0\n",
       "5              0\n",
       "         ...    \n",
       "345            0\n",
       "346            0\n",
       "347            0\n",
       "348            0\n",
       "349            0\n",
       "Name: 3K5kYPO8, Length: 349, dtype: object"
      ]
     },
     "execution_count": 39,
     "metadata": {},
     "output_type": "execute_result"
    }
   ],
   "source": [
    "MOVES_TRANS.iloc[1946]"
   ]
  },
  {
   "cell_type": "code",
   "execution_count": null,
   "metadata": {},
   "outputs": [],
   "source": [
    "MOVES_TRANS.to_csv('./moves_trans.csv')"
   ]
  },
  {
   "cell_type": "markdown",
   "metadata": {},
   "source": [
    "# @@@ Cell > Run All Above @@@"
   ]
  },
  {
   "cell_type": "markdown",
   "metadata": {},
   "source": [
    "## Part 1 - Metadata table\n",
    "\n",
    "---"
   ]
  },
  {
   "cell_type": "code",
   "execution_count": null,
   "metadata": {},
   "outputs": [],
   "source": [
    "# ## Instantiate One Hot Encoder\n",
    "# ohe = OneHotEncoder(handle_unknown='error')"
   ]
  },
  {
   "cell_type": "code",
   "execution_count": null,
   "metadata": {},
   "outputs": [],
   "source": [
    "# ## Instantiate Count Vectorizer\n",
    "# cve = CountVectorizer()"
   ]
  },
  {
   "cell_type": "code",
   "execution_count": null,
   "metadata": {},
   "outputs": [],
   "source": [
    "# ## Set column transformer\n",
    "# column_trans = make_column_transformer((ohe,to_hot_encode),\n",
    "#                                        remainder='passthrough')"
   ]
  },
  {
   "cell_type": "code",
   "execution_count": null,
   "metadata": {},
   "outputs": [],
   "source": [
    "# ## Fit column transformer\n",
    "# column_trans.fit(GAMES[to_hot_encode])"
   ]
  },
  {
   "cell_type": "code",
   "execution_count": null,
   "metadata": {},
   "outputs": [],
   "source": [
    "# ## Produce one-hot-encoded array \n",
    "# hot_array = column_trans.transform(games[to_hot_encode]).toarray()\n",
    "\n",
    "# HOT_ENCODED = pd.DataFrame(hot_array, \n",
    "#                               columns = column_trans.get_feature_names())"
   ]
  },
  {
   "cell_type": "code",
   "execution_count": null,
   "metadata": {},
   "outputs": [],
   "source": [
    "# ## Form final dataframe\n",
    "# META = GAMES[num_cols].merge(HOT_ENCODED,\n",
    "#                      left_index=True,\n",
    "#                      right_index=True)"
   ]
  },
  {
   "cell_type": "markdown",
   "metadata": {},
   "source": [
    "### Metadata table"
   ]
  },
  {
   "cell_type": "code",
   "execution_count": null,
   "metadata": {},
   "outputs": [],
   "source": [
    "# META"
   ]
  },
  {
   "cell_type": "code",
   "execution_count": null,
   "metadata": {},
   "outputs": [],
   "source": []
  },
  {
   "cell_type": "code",
   "execution_count": null,
   "metadata": {},
   "outputs": [],
   "source": []
  },
  {
   "cell_type": "code",
   "execution_count": null,
   "metadata": {},
   "outputs": [],
   "source": []
  },
  {
   "cell_type": "code",
   "execution_count": null,
   "metadata": {},
   "outputs": [],
   "source": [
    "games_s['moves_class']."
   ]
  },
  {
   "cell_type": "code",
   "execution_count": null,
   "metadata": {},
   "outputs": [],
   "source": []
  },
  {
   "cell_type": "code",
   "execution_count": null,
   "metadata": {},
   "outputs": [],
   "source": [
    "games[['moves_win','winner_bin']]"
   ]
  },
  {
   "cell_type": "markdown",
   "metadata": {
    "tags": []
   },
   "source": [
    "## UMAP model\n",
    "\n",
    "---\n",
    "\n",
    "Parameters:"
   ]
  },
  {
   "cell_type": "code",
   "execution_count": null,
   "metadata": {},
   "outputs": [],
   "source": [
    "distance_metric = 'euclidean'\n",
    "# metrics_available = euclidean, manhattan, chebyshev, minkowski, canberra, braycurtis, mahalanobis,\n",
    "# wminkowski, seuclidean, cosine, correlation, haversine, hamming, jaccard, dice, russelrao, kulsinski,\n",
    "# ll_dirichlet, hellinger, rogerstanimoto, sokalmichener, sokalsneath, yule\n",
    "\n",
    "n_neighbors = 20\n",
    "min_dist = 0.2"
   ]
  },
  {
   "cell_type": "markdown",
   "metadata": {},
   "source": [
    "Instatiate & train the model:"
   ]
  },
  {
   "cell_type": "code",
   "execution_count": null,
   "metadata": {},
   "outputs": [],
   "source": [
    "## Instantiate UMAP model\n",
    "reducer = umap.UMAP(metric=distance_metric,\n",
    "                   n_neighbors=n_neighbors,\n",
    "                   min_dist=min_dist,\n",
    "                   n_epochs=500)"
   ]
  },
  {
   "cell_type": "code",
   "execution_count": null,
   "metadata": {},
   "outputs": [],
   "source": [
    "MOVES_TRANS.index.rename('id',inplace=True)"
   ]
  },
  {
   "cell_type": "code",
   "execution_count": null,
   "metadata": {},
   "outputs": [],
   "source": [
    "MOVES_TRANS.reset_index(drop=True, inplace=True)"
   ]
  },
  {
   "cell_type": "code",
   "execution_count": null,
   "metadata": {},
   "outputs": [],
   "source": [
    "MOVES_TRANS.to_csv('./vec.csv')"
   ]
  },
  {
   "cell_type": "code",
   "execution_count": null,
   "metadata": {
    "scrolled": false
   },
   "outputs": [],
   "source": [
    "## Train the model\n",
    "embedding = reducer.fit_transform(MOVES_TRANS)"
   ]
  },
  {
   "cell_type": "markdown",
   "metadata": {
    "tags": []
   },
   "source": [
    "---\n",
    "\n",
    "## Plot\n",
    "\n",
    "---\n",
    "\n",
    "Parameters:"
   ]
  },
  {
   "cell_type": "code",
   "execution_count": null,
   "metadata": {},
   "outputs": [],
   "source": [
    "## switches\n",
    "cbar_switch = True\n",
    "\n",
    "## display\n",
    "alpha = 0.9\n",
    "marker_shape = 'o'\n",
    "marker_size = 4\n",
    "dpi = 300\n",
    "\n",
    "## data\n",
    "cmap_variable = GAMES['moves_no']\n",
    "\n",
    "## colors\n",
    "facecolor = 'black'\n",
    "labelcolor = 'white'\n",
    "cmap = 'viridis'"
   ]
  },
  {
   "cell_type": "markdown",
   "metadata": {},
   "source": [
    "Plot script:"
   ]
  },
  {
   "cell_type": "code",
   "execution_count": null,
   "metadata": {},
   "outputs": [],
   "source": [
    "## Render vis\n",
    "fig = plt.figure(figsize=(14,12))\n",
    "fig.patch.set_facecolor(facecolor)\n",
    "\n",
    "plot = plt.scatter(embedding[:,0], \n",
    "                embedding[:,1], \n",
    "                marker=marker_shape,\n",
    "                s=marker_size,\n",
    "                edgecolor='none',\n",
    "                c=cmap_variable,\n",
    "                cmap='viridis', \n",
    "                alpha=alpha)\n",
    "\n",
    "plt.axis(\"off\")\n",
    "plt.title(f'20k chess games; distance={distance_metric}; nn={n_neighbors}, min=dist={min_dist}', \n",
    "          color='w')\n",
    "\n",
    "if cbar_switch:\n",
    "    cbar = plt.colorbar(fraction=0.05, \n",
    "                    shrink=0.5,\n",
    "                    ticks=[GAMES['moves_no'].min(), \n",
    "                        GAMES['moves_no'].quantile(q=0.50),\n",
    "                        GAMES['moves_no'].quantile(q=0.75),\n",
    "                        GAMES['moves_no'].max()], alpha=alpha\n",
    "                           )\n",
    "\n",
    "    cbar.set_label(cmap_variable.name, color=labelcolor)\n",
    "    cbar.ax.yaxis.set_tick_params(color=labelcolor)\n",
    "    cbar.solids.set_edgecolor(\"face\")\n",
    "\n",
    "plt.setp(plt.getp(cbar.ax.axes, 'yticklabels'), color=labelcolor)\n",
    "\n",
    "_ = plot\n",
    "\n",
    "# plt.savefig(f\"screens/{distance_metric}_nn{n_neighbors}_mind{min_dist}_v{notebook_ver}.png\", \n",
    "#             dpi=dpi, \n",
    "#             facecolor=facecolor)"
   ]
  },
  {
   "cell_type": "code",
   "execution_count": null,
   "metadata": {},
   "outputs": [],
   "source": []
  }
 ],
 "metadata": {
  "kernelspec": {
   "display_name": "Python 3 (ipykernel)",
   "language": "python",
   "name": "python3"
  },
  "language_info": {
   "codemirror_mode": {
    "name": "ipython",
    "version": 3
   },
   "file_extension": ".py",
   "mimetype": "text/x-python",
   "name": "python",
   "nbconvert_exporter": "python",
   "pygments_lexer": "ipython3",
   "version": "3.8.3"
  }
 },
 "nbformat": 4,
 "nbformat_minor": 4
}
