{
 "cells": [
  {
   "cell_type": "markdown",
   "metadata": {},
   "source": [
    "# UMAP chess dataset EDA\n",
    "\n",
    "---"
   ]
  },
  {
   "cell_type": "markdown",
   "metadata": {},
   "source": [
    "## Staging\n",
    "\n",
    "---\n",
    "\n",
    "import section:"
   ]
  },
  {
   "cell_type": "code",
   "execution_count": 76,
   "metadata": {},
   "outputs": [],
   "source": [
    "import pandas as pd\n",
    "import numpy as np\n",
    "\n",
    "from matplotlib import pyplot as plt\n",
    "\n",
    "import umap\n",
    "\n",
    "from sklearn.preprocessing import OneHotEncoder\n",
    "from sklearn.feature_extraction.text import CountVectorizer\n",
    "from sklearn.compose import make_column_transformer"
   ]
  },
  {
   "cell_type": "markdown",
   "metadata": {},
   "source": [
    "general parameters:"
   ]
  },
  {
   "cell_type": "code",
   "execution_count": 77,
   "metadata": {},
   "outputs": [],
   "source": [
    "## metadata\n",
    "notebook_ver = 0.2\n",
    "\n",
    "## dataset\n",
    "data_pth = './data/games.csv'\n",
    "\n",
    "## Define nominal data variables to be thrown at one-hot-encoder\n",
    "to_hot_encode = [\n",
    "    'opening_eco',\n",
    "    'increment_code',\n",
    "    'victory_status'\n",
    "]\n",
    "\n",
    "## Define string variables for vectorization\n",
    "to_vectorize = [\n",
    "    'white_id',\n",
    "    'black_id'\n",
    "]\n",
    "\n",
    "## Define numerical cols to use\n",
    "num_cols = [\n",
    "    'winner_bin',\n",
    "    'rated_bin',\n",
    "    'game_len_mins',\n",
    "#     'turns', # dense var\n",
    "#     'white_rating', # dense var\n",
    "#     'black_rating', # dense var\n",
    "    'opening_ply'\n",
    "]"
   ]
  },
  {
   "cell_type": "markdown",
   "metadata": {},
   "source": [
    "Data load:"
   ]
  },
  {
   "cell_type": "code",
   "execution_count": 78,
   "metadata": {},
   "outputs": [],
   "source": [
    "games = pd.read_csv(data_pth)"
   ]
  },
  {
   "cell_type": "markdown",
   "metadata": {
    "tags": []
   },
   "source": [
    "## Preprocessing\n",
    "\n",
    "---"
   ]
  },
  {
   "cell_type": "code",
   "execution_count": 79,
   "metadata": {},
   "outputs": [],
   "source": [
    "## Encode binary vars to integers\n",
    "games['rated_bin'] = np.where(games['rated'] == True, 1, 0)\n",
    "\n",
    "games.drop(columns='rated',\n",
    "          inplace=True)"
   ]
  },
  {
   "cell_type": "code",
   "execution_count": 80,
   "metadata": {},
   "outputs": [],
   "source": [
    "games['winner_bin'] = np.where(games['winner'] == 'white', 0, 1)\n",
    "\n",
    "games.drop(columns='winner',\n",
    "          inplace=True)"
   ]
  },
  {
   "cell_type": "code",
   "execution_count": 81,
   "metadata": {},
   "outputs": [],
   "source": [
    "## Opening, closing games dates transformation\n",
    "games['created_at_dt'] = pd.to_datetime(games['created_at']/1000, unit='s', origin='unix')\n",
    "games['last_move_at_dt'] = pd.to_datetime(games['last_move_at']/1000, unit='s', origin='unix')\n",
    "\n",
    "games['game_len_dt'] = games['last_move_at_dt'] - games['created_at_dt']\n",
    "games['game_len'] = games['last_move_at'] - games['created_at']\n",
    "\n",
    "games['game_len_mins'] = games['game_len_dt'].dt.components['minutes']"
   ]
  },
  {
   "cell_type": "code",
   "execution_count": 82,
   "metadata": {},
   "outputs": [],
   "source": [
    "## Instantiate One Hot Encoder\n",
    "ohe = OneHotEncoder(handle_unknown='error')"
   ]
  },
  {
   "cell_type": "code",
   "execution_count": 83,
   "metadata": {},
   "outputs": [],
   "source": [
    "## Instantiate Count Vectorizer\n",
    "cve = CountVectorizer()"
   ]
  },
  {
   "cell_type": "code",
   "execution_count": 84,
   "metadata": {},
   "outputs": [],
   "source": [
    "## Set column transformer\n",
    "column_trans = make_column_transformer((ohe,to_hot_encode),\n",
    "                                       remainder='passthrough')"
   ]
  },
  {
   "cell_type": "code",
   "execution_count": 85,
   "metadata": {},
   "outputs": [
    {
     "data": {
      "text/plain": [
       "ColumnTransformer(remainder='passthrough',\n",
       "                  transformers=[('onehotencoder', OneHotEncoder(),\n",
       "                                 ['opening_eco', 'increment_code',\n",
       "                                  'victory_status'])])"
      ]
     },
     "execution_count": 85,
     "metadata": {},
     "output_type": "execute_result"
    }
   ],
   "source": [
    "## Fit column transformer\n",
    "column_trans.fit(games[to_hot_encode])"
   ]
  },
  {
   "cell_type": "code",
   "execution_count": 86,
   "metadata": {},
   "outputs": [
    {
     "name": "stderr",
     "output_type": "stream",
     "text": [
      "/home/nef/anaconda3/lib/python3.8/site-packages/sklearn/utils/deprecation.py:87: FutureWarning: Function get_feature_names is deprecated; get_feature_names is deprecated in 1.0 and will be removed in 1.2. Please use get_feature_names_out instead.\n",
      "  warnings.warn(msg, category=FutureWarning)\n"
     ]
    }
   ],
   "source": [
    "## Produce one-hot-encoded array \n",
    "hot_encoded = column_trans.transform(games[to_hot_encode]).toarray()\n",
    "\n",
    "hot_encoded_df = pd.DataFrame(hot_encoded, \n",
    "                              columns = column_trans.get_feature_names())"
   ]
  },
  {
   "cell_type": "code",
   "execution_count": 87,
   "metadata": {},
   "outputs": [],
   "source": [
    "## Form final dataframe\n",
    "hot_df = games[num_cols].merge(hot_encoded_df,\n",
    "                     left_index=True,\n",
    "                     right_index=True)"
   ]
  },
  {
   "cell_type": "markdown",
   "metadata": {},
   "source": [
    "## Final DF\n",
    "\n",
    "---"
   ]
  },
  {
   "cell_type": "code",
   "execution_count": 88,
   "metadata": {},
   "outputs": [
    {
     "data": {
      "text/html": [
       "<div>\n",
       "<style scoped>\n",
       "    .dataframe tbody tr th:only-of-type {\n",
       "        vertical-align: middle;\n",
       "    }\n",
       "\n",
       "    .dataframe tbody tr th {\n",
       "        vertical-align: top;\n",
       "    }\n",
       "\n",
       "    .dataframe thead th {\n",
       "        text-align: right;\n",
       "    }\n",
       "</style>\n",
       "<table border=\"1\" class=\"dataframe\">\n",
       "  <thead>\n",
       "    <tr style=\"text-align: right;\">\n",
       "      <th></th>\n",
       "      <th>winner_bin</th>\n",
       "      <th>rated_bin</th>\n",
       "      <th>game_len_mins</th>\n",
       "      <th>opening_ply</th>\n",
       "      <th>onehotencoder__x0_A00</th>\n",
       "      <th>onehotencoder__x0_A01</th>\n",
       "      <th>onehotencoder__x0_A02</th>\n",
       "      <th>onehotencoder__x0_A03</th>\n",
       "      <th>onehotencoder__x0_A04</th>\n",
       "      <th>onehotencoder__x0_A05</th>\n",
       "      <th>...</th>\n",
       "      <th>onehotencoder__x1_9+9</th>\n",
       "      <th>onehotencoder__x1_90+0</th>\n",
       "      <th>onehotencoder__x1_90+120</th>\n",
       "      <th>onehotencoder__x1_90+30</th>\n",
       "      <th>onehotencoder__x1_90+5</th>\n",
       "      <th>onehotencoder__x1_90+8</th>\n",
       "      <th>onehotencoder__x2_draw</th>\n",
       "      <th>onehotencoder__x2_mate</th>\n",
       "      <th>onehotencoder__x2_outoftime</th>\n",
       "      <th>onehotencoder__x2_resign</th>\n",
       "    </tr>\n",
       "  </thead>\n",
       "  <tbody>\n",
       "    <tr>\n",
       "      <th>0</th>\n",
       "      <td>0</td>\n",
       "      <td>0</td>\n",
       "      <td>0</td>\n",
       "      <td>5</td>\n",
       "      <td>0.0</td>\n",
       "      <td>0.0</td>\n",
       "      <td>0.0</td>\n",
       "      <td>0.0</td>\n",
       "      <td>0.0</td>\n",
       "      <td>0.0</td>\n",
       "      <td>...</td>\n",
       "      <td>0.0</td>\n",
       "      <td>0.0</td>\n",
       "      <td>0.0</td>\n",
       "      <td>0.0</td>\n",
       "      <td>0.0</td>\n",
       "      <td>0.0</td>\n",
       "      <td>0.0</td>\n",
       "      <td>0.0</td>\n",
       "      <td>1.0</td>\n",
       "      <td>0.0</td>\n",
       "    </tr>\n",
       "    <tr>\n",
       "      <th>1</th>\n",
       "      <td>1</td>\n",
       "      <td>1</td>\n",
       "      <td>0</td>\n",
       "      <td>4</td>\n",
       "      <td>0.0</td>\n",
       "      <td>0.0</td>\n",
       "      <td>0.0</td>\n",
       "      <td>0.0</td>\n",
       "      <td>0.0</td>\n",
       "      <td>0.0</td>\n",
       "      <td>...</td>\n",
       "      <td>0.0</td>\n",
       "      <td>0.0</td>\n",
       "      <td>0.0</td>\n",
       "      <td>0.0</td>\n",
       "      <td>0.0</td>\n",
       "      <td>0.0</td>\n",
       "      <td>0.0</td>\n",
       "      <td>0.0</td>\n",
       "      <td>0.0</td>\n",
       "      <td>1.0</td>\n",
       "    </tr>\n",
       "    <tr>\n",
       "      <th>2</th>\n",
       "      <td>0</td>\n",
       "      <td>1</td>\n",
       "      <td>0</td>\n",
       "      <td>3</td>\n",
       "      <td>0.0</td>\n",
       "      <td>0.0</td>\n",
       "      <td>0.0</td>\n",
       "      <td>0.0</td>\n",
       "      <td>0.0</td>\n",
       "      <td>0.0</td>\n",
       "      <td>...</td>\n",
       "      <td>0.0</td>\n",
       "      <td>0.0</td>\n",
       "      <td>0.0</td>\n",
       "      <td>0.0</td>\n",
       "      <td>0.0</td>\n",
       "      <td>0.0</td>\n",
       "      <td>0.0</td>\n",
       "      <td>1.0</td>\n",
       "      <td>0.0</td>\n",
       "      <td>0.0</td>\n",
       "    </tr>\n",
       "    <tr>\n",
       "      <th>3</th>\n",
       "      <td>0</td>\n",
       "      <td>1</td>\n",
       "      <td>0</td>\n",
       "      <td>3</td>\n",
       "      <td>0.0</td>\n",
       "      <td>0.0</td>\n",
       "      <td>0.0</td>\n",
       "      <td>0.0</td>\n",
       "      <td>0.0</td>\n",
       "      <td>0.0</td>\n",
       "      <td>...</td>\n",
       "      <td>0.0</td>\n",
       "      <td>0.0</td>\n",
       "      <td>0.0</td>\n",
       "      <td>0.0</td>\n",
       "      <td>0.0</td>\n",
       "      <td>0.0</td>\n",
       "      <td>0.0</td>\n",
       "      <td>1.0</td>\n",
       "      <td>0.0</td>\n",
       "      <td>0.0</td>\n",
       "    </tr>\n",
       "    <tr>\n",
       "      <th>4</th>\n",
       "      <td>0</td>\n",
       "      <td>1</td>\n",
       "      <td>0</td>\n",
       "      <td>5</td>\n",
       "      <td>0.0</td>\n",
       "      <td>0.0</td>\n",
       "      <td>0.0</td>\n",
       "      <td>0.0</td>\n",
       "      <td>0.0</td>\n",
       "      <td>0.0</td>\n",
       "      <td>...</td>\n",
       "      <td>0.0</td>\n",
       "      <td>0.0</td>\n",
       "      <td>0.0</td>\n",
       "      <td>0.0</td>\n",
       "      <td>0.0</td>\n",
       "      <td>0.0</td>\n",
       "      <td>0.0</td>\n",
       "      <td>1.0</td>\n",
       "      <td>0.0</td>\n",
       "      <td>0.0</td>\n",
       "    </tr>\n",
       "    <tr>\n",
       "      <th>...</th>\n",
       "      <td>...</td>\n",
       "      <td>...</td>\n",
       "      <td>...</td>\n",
       "      <td>...</td>\n",
       "      <td>...</td>\n",
       "      <td>...</td>\n",
       "      <td>...</td>\n",
       "      <td>...</td>\n",
       "      <td>...</td>\n",
       "      <td>...</td>\n",
       "      <td>...</td>\n",
       "      <td>...</td>\n",
       "      <td>...</td>\n",
       "      <td>...</td>\n",
       "      <td>...</td>\n",
       "      <td>...</td>\n",
       "      <td>...</td>\n",
       "      <td>...</td>\n",
       "      <td>...</td>\n",
       "      <td>...</td>\n",
       "      <td>...</td>\n",
       "    </tr>\n",
       "    <tr>\n",
       "      <th>20053</th>\n",
       "      <td>0</td>\n",
       "      <td>1</td>\n",
       "      <td>5</td>\n",
       "      <td>2</td>\n",
       "      <td>0.0</td>\n",
       "      <td>0.0</td>\n",
       "      <td>0.0</td>\n",
       "      <td>0.0</td>\n",
       "      <td>0.0</td>\n",
       "      <td>0.0</td>\n",
       "      <td>...</td>\n",
       "      <td>0.0</td>\n",
       "      <td>0.0</td>\n",
       "      <td>0.0</td>\n",
       "      <td>0.0</td>\n",
       "      <td>0.0</td>\n",
       "      <td>0.0</td>\n",
       "      <td>0.0</td>\n",
       "      <td>0.0</td>\n",
       "      <td>0.0</td>\n",
       "      <td>1.0</td>\n",
       "    </tr>\n",
       "    <tr>\n",
       "      <th>20054</th>\n",
       "      <td>1</td>\n",
       "      <td>1</td>\n",
       "      <td>12</td>\n",
       "      <td>2</td>\n",
       "      <td>0.0</td>\n",
       "      <td>0.0</td>\n",
       "      <td>0.0</td>\n",
       "      <td>0.0</td>\n",
       "      <td>0.0</td>\n",
       "      <td>0.0</td>\n",
       "      <td>...</td>\n",
       "      <td>0.0</td>\n",
       "      <td>0.0</td>\n",
       "      <td>0.0</td>\n",
       "      <td>0.0</td>\n",
       "      <td>0.0</td>\n",
       "      <td>0.0</td>\n",
       "      <td>0.0</td>\n",
       "      <td>1.0</td>\n",
       "      <td>0.0</td>\n",
       "      <td>0.0</td>\n",
       "    </tr>\n",
       "    <tr>\n",
       "      <th>20055</th>\n",
       "      <td>0</td>\n",
       "      <td>1</td>\n",
       "      <td>2</td>\n",
       "      <td>3</td>\n",
       "      <td>0.0</td>\n",
       "      <td>0.0</td>\n",
       "      <td>0.0</td>\n",
       "      <td>0.0</td>\n",
       "      <td>0.0</td>\n",
       "      <td>0.0</td>\n",
       "      <td>...</td>\n",
       "      <td>0.0</td>\n",
       "      <td>0.0</td>\n",
       "      <td>0.0</td>\n",
       "      <td>0.0</td>\n",
       "      <td>0.0</td>\n",
       "      <td>0.0</td>\n",
       "      <td>0.0</td>\n",
       "      <td>1.0</td>\n",
       "      <td>0.0</td>\n",
       "      <td>0.0</td>\n",
       "    </tr>\n",
       "    <tr>\n",
       "      <th>20056</th>\n",
       "      <td>0</td>\n",
       "      <td>1</td>\n",
       "      <td>15</td>\n",
       "      <td>4</td>\n",
       "      <td>0.0</td>\n",
       "      <td>0.0</td>\n",
       "      <td>0.0</td>\n",
       "      <td>0.0</td>\n",
       "      <td>0.0</td>\n",
       "      <td>0.0</td>\n",
       "      <td>...</td>\n",
       "      <td>0.0</td>\n",
       "      <td>0.0</td>\n",
       "      <td>0.0</td>\n",
       "      <td>0.0</td>\n",
       "      <td>0.0</td>\n",
       "      <td>0.0</td>\n",
       "      <td>0.0</td>\n",
       "      <td>0.0</td>\n",
       "      <td>0.0</td>\n",
       "      <td>1.0</td>\n",
       "    </tr>\n",
       "    <tr>\n",
       "      <th>20057</th>\n",
       "      <td>1</td>\n",
       "      <td>1</td>\n",
       "      <td>12</td>\n",
       "      <td>3</td>\n",
       "      <td>0.0</td>\n",
       "      <td>0.0</td>\n",
       "      <td>0.0</td>\n",
       "      <td>0.0</td>\n",
       "      <td>0.0</td>\n",
       "      <td>0.0</td>\n",
       "      <td>...</td>\n",
       "      <td>0.0</td>\n",
       "      <td>0.0</td>\n",
       "      <td>0.0</td>\n",
       "      <td>0.0</td>\n",
       "      <td>0.0</td>\n",
       "      <td>0.0</td>\n",
       "      <td>0.0</td>\n",
       "      <td>1.0</td>\n",
       "      <td>0.0</td>\n",
       "      <td>0.0</td>\n",
       "    </tr>\n",
       "  </tbody>\n",
       "</table>\n",
       "<p>20058 rows × 773 columns</p>\n",
       "</div>"
      ],
      "text/plain": [
       "       winner_bin  rated_bin  game_len_mins  opening_ply  \\\n",
       "0               0          0              0            5   \n",
       "1               1          1              0            4   \n",
       "2               0          1              0            3   \n",
       "3               0          1              0            3   \n",
       "4               0          1              0            5   \n",
       "...           ...        ...            ...          ...   \n",
       "20053           0          1              5            2   \n",
       "20054           1          1             12            2   \n",
       "20055           0          1              2            3   \n",
       "20056           0          1             15            4   \n",
       "20057           1          1             12            3   \n",
       "\n",
       "       onehotencoder__x0_A00  onehotencoder__x0_A01  onehotencoder__x0_A02  \\\n",
       "0                        0.0                    0.0                    0.0   \n",
       "1                        0.0                    0.0                    0.0   \n",
       "2                        0.0                    0.0                    0.0   \n",
       "3                        0.0                    0.0                    0.0   \n",
       "4                        0.0                    0.0                    0.0   \n",
       "...                      ...                    ...                    ...   \n",
       "20053                    0.0                    0.0                    0.0   \n",
       "20054                    0.0                    0.0                    0.0   \n",
       "20055                    0.0                    0.0                    0.0   \n",
       "20056                    0.0                    0.0                    0.0   \n",
       "20057                    0.0                    0.0                    0.0   \n",
       "\n",
       "       onehotencoder__x0_A03  onehotencoder__x0_A04  onehotencoder__x0_A05  \\\n",
       "0                        0.0                    0.0                    0.0   \n",
       "1                        0.0                    0.0                    0.0   \n",
       "2                        0.0                    0.0                    0.0   \n",
       "3                        0.0                    0.0                    0.0   \n",
       "4                        0.0                    0.0                    0.0   \n",
       "...                      ...                    ...                    ...   \n",
       "20053                    0.0                    0.0                    0.0   \n",
       "20054                    0.0                    0.0                    0.0   \n",
       "20055                    0.0                    0.0                    0.0   \n",
       "20056                    0.0                    0.0                    0.0   \n",
       "20057                    0.0                    0.0                    0.0   \n",
       "\n",
       "       ...  onehotencoder__x1_9+9  onehotencoder__x1_90+0  \\\n",
       "0      ...                    0.0                     0.0   \n",
       "1      ...                    0.0                     0.0   \n",
       "2      ...                    0.0                     0.0   \n",
       "3      ...                    0.0                     0.0   \n",
       "4      ...                    0.0                     0.0   \n",
       "...    ...                    ...                     ...   \n",
       "20053  ...                    0.0                     0.0   \n",
       "20054  ...                    0.0                     0.0   \n",
       "20055  ...                    0.0                     0.0   \n",
       "20056  ...                    0.0                     0.0   \n",
       "20057  ...                    0.0                     0.0   \n",
       "\n",
       "       onehotencoder__x1_90+120  onehotencoder__x1_90+30  \\\n",
       "0                           0.0                      0.0   \n",
       "1                           0.0                      0.0   \n",
       "2                           0.0                      0.0   \n",
       "3                           0.0                      0.0   \n",
       "4                           0.0                      0.0   \n",
       "...                         ...                      ...   \n",
       "20053                       0.0                      0.0   \n",
       "20054                       0.0                      0.0   \n",
       "20055                       0.0                      0.0   \n",
       "20056                       0.0                      0.0   \n",
       "20057                       0.0                      0.0   \n",
       "\n",
       "       onehotencoder__x1_90+5  onehotencoder__x1_90+8  onehotencoder__x2_draw  \\\n",
       "0                         0.0                     0.0                     0.0   \n",
       "1                         0.0                     0.0                     0.0   \n",
       "2                         0.0                     0.0                     0.0   \n",
       "3                         0.0                     0.0                     0.0   \n",
       "4                         0.0                     0.0                     0.0   \n",
       "...                       ...                     ...                     ...   \n",
       "20053                     0.0                     0.0                     0.0   \n",
       "20054                     0.0                     0.0                     0.0   \n",
       "20055                     0.0                     0.0                     0.0   \n",
       "20056                     0.0                     0.0                     0.0   \n",
       "20057                     0.0                     0.0                     0.0   \n",
       "\n",
       "       onehotencoder__x2_mate  onehotencoder__x2_outoftime  \\\n",
       "0                         0.0                          1.0   \n",
       "1                         0.0                          0.0   \n",
       "2                         1.0                          0.0   \n",
       "3                         1.0                          0.0   \n",
       "4                         1.0                          0.0   \n",
       "...                       ...                          ...   \n",
       "20053                     0.0                          0.0   \n",
       "20054                     1.0                          0.0   \n",
       "20055                     1.0                          0.0   \n",
       "20056                     0.0                          0.0   \n",
       "20057                     1.0                          0.0   \n",
       "\n",
       "       onehotencoder__x2_resign  \n",
       "0                           0.0  \n",
       "1                           1.0  \n",
       "2                           0.0  \n",
       "3                           0.0  \n",
       "4                           0.0  \n",
       "...                         ...  \n",
       "20053                       1.0  \n",
       "20054                       0.0  \n",
       "20055                       0.0  \n",
       "20056                       1.0  \n",
       "20057                       0.0  \n",
       "\n",
       "[20058 rows x 773 columns]"
      ]
     },
     "execution_count": 88,
     "metadata": {},
     "output_type": "execute_result"
    }
   ],
   "source": [
    "hot_df"
   ]
  },
  {
   "cell_type": "code",
   "execution_count": 89,
   "metadata": {},
   "outputs": [],
   "source": [
    "## create a algebraic notation to iccf notation board mapping\n",
    "iccf_board = [str(x)+str(y) for x in range(1,9) for y in range(1,9)]\n",
    "algebraic_board = [l + str(i) for l in list('abcdefgh') for i in range(1,9)]\n",
    "board_mapping = {algebraic : iccf for algebraic, iccf in zip(algebraic_board, iccf_board)}"
   ]
  },
  {
   "cell_type": "code",
   "execution_count": 90,
   "metadata": {},
   "outputs": [
    {
     "data": {
      "text/plain": [
       "Index(['id', 'created_at', 'last_move_at', 'turns', 'victory_status',\n",
       "       'increment_code', 'white_id', 'white_rating', 'black_id',\n",
       "       'black_rating', 'moves', 'opening_eco', 'opening_name', 'opening_ply',\n",
       "       'rated_bin', 'winner_bin', 'created_at_dt', 'last_move_at_dt',\n",
       "       'game_len_dt', 'game_len', 'game_len_mins'],\n",
       "      dtype='object')"
      ]
     },
     "execution_count": 90,
     "metadata": {},
     "output_type": "execute_result"
    }
   ],
   "source": [
    "games.columns"
   ]
  },
  {
   "cell_type": "code",
   "execution_count": 91,
   "metadata": {},
   "outputs": [],
   "source": [
    "def to_uni(mov):\n",
    "    move_unicode = []\n",
    "    for char in mov:\n",
    "        move_unicode.append(ord(char))\n",
    "    return move_unicode"
   ]
  },
  {
   "cell_type": "code",
   "execution_count": 92,
   "metadata": {},
   "outputs": [],
   "source": [
    "def encode_moves(moves_seq):\n",
    "    moves = []\n",
    "    for move in moves_seq.split(' '):\n",
    "        ## Convert str encoding to unicode vals\n",
    "        move_uni = to_uni(move)\n",
    "        ## Multiply all unicode vals together\n",
    "        move_prod = np.prod(np.array(move_uni))  \n",
    "        ## Take log2 for every move and multiply by 10_000_000\n",
    "        moves.append(int(np.log2(move_prod)*10_000_000))\n",
    "    return(moves)"
   ]
  },
  {
   "cell_type": "code",
   "execution_count": 93,
   "metadata": {},
   "outputs": [],
   "source": [
    "games['moves_encoded'] = games['moves'].apply(lambda x: encode_moves(x))"
   ]
  },
  {
   "cell_type": "code",
   "execution_count": 94,
   "metadata": {},
   "outputs": [],
   "source": [
    "games['moves_len'] = games['moves_encoded'].apply(len)"
   ]
  },
  {
   "cell_type": "code",
   "execution_count": 95,
   "metadata": {},
   "outputs": [],
   "source": [
    "games_moves = games['moves_encoded']"
   ]
  },
  {
   "cell_type": "code",
   "execution_count": 106,
   "metadata": {},
   "outputs": [
    {
     "data": {
      "text/plain": [
       "Index(['id', 'created_at', 'last_move_at', 'turns', 'victory_status',\n",
       "       'increment_code', 'white_id', 'white_rating', 'black_id',\n",
       "       'black_rating', 'moves', 'opening_eco', 'opening_name', 'opening_ply',\n",
       "       'rated_bin', 'winner_bin', 'created_at_dt', 'last_move_at_dt',\n",
       "       'game_len_dt', 'game_len', 'game_len_mins', 'moves_encoded',\n",
       "       'moves_len'],\n",
       "      dtype='object')"
      ]
     },
     "execution_count": 106,
     "metadata": {},
     "output_type": "execute_result"
    }
   ],
   "source": [
    "games.columns"
   ]
  },
  {
   "cell_type": "code",
   "execution_count": 96,
   "metadata": {},
   "outputs": [],
   "source": [
    "games_moves_exploded = games_moves.explode()"
   ]
  },
  {
   "cell_type": "code",
   "execution_count": null,
   "metadata": {},
   "outputs": [],
   "source": [
    "# games_moves_exploded.pivot(index='order', \n",
    "#                            columns='index', \n",
    "#                            values='moves_encoded')"
   ]
  },
  {
   "cell_type": "code",
   "execution_count": 97,
   "metadata": {},
   "outputs": [
    {
     "data": {
      "text/plain": [
       "0        123442959\n",
       "0        123717766\n",
       "0        123297963\n",
       "0        123842441\n",
       "0        259080238\n",
       "           ...    \n",
       "20057    241209151\n",
       "20057    186540345\n",
       "20057    241087450\n",
       "20057    186800298\n",
       "20057    239346994\n",
       "Name: moves_encoded, Length: 1212827, dtype: object"
      ]
     },
     "execution_count": 97,
     "metadata": {},
     "output_type": "execute_result"
    }
   ],
   "source": [
    "games_moves_exploded"
   ]
  },
  {
   "cell_type": "code",
   "execution_count": 104,
   "metadata": {},
   "outputs": [],
   "source": [
    "exploded_moves = []\n",
    "\n",
    "for game in games_moves_exploded.index.values:\n",
    "    trans = pd.DataFrame(games_moves_exploded.loc[game]).T\n",
    "    exploded_moves.append(trans)\n",
    "    break"
   ]
  },
  {
   "cell_type": "code",
   "execution_count": 105,
   "metadata": {},
   "outputs": [
    {
     "data": {
      "text/html": [
       "<div>\n",
       "<style scoped>\n",
       "    .dataframe tbody tr th:only-of-type {\n",
       "        vertical-align: middle;\n",
       "    }\n",
       "\n",
       "    .dataframe tbody tr th {\n",
       "        vertical-align: top;\n",
       "    }\n",
       "\n",
       "    .dataframe thead th {\n",
       "        text-align: right;\n",
       "    }\n",
       "</style>\n",
       "<table border=\"1\" class=\"dataframe\">\n",
       "  <thead>\n",
       "    <tr style=\"text-align: right;\">\n",
       "      <th></th>\n",
       "      <th>0</th>\n",
       "      <th>0</th>\n",
       "      <th>0</th>\n",
       "      <th>0</th>\n",
       "      <th>0</th>\n",
       "      <th>0</th>\n",
       "      <th>0</th>\n",
       "      <th>0</th>\n",
       "      <th>0</th>\n",
       "      <th>0</th>\n",
       "      <th>0</th>\n",
       "      <th>0</th>\n",
       "      <th>0</th>\n",
       "    </tr>\n",
       "  </thead>\n",
       "  <tbody>\n",
       "    <tr>\n",
       "      <th>moves_encoded</th>\n",
       "      <td>123442959</td>\n",
       "      <td>123717766</td>\n",
       "      <td>123297963</td>\n",
       "      <td>123842441</td>\n",
       "      <td>259080238</td>\n",
       "      <td>124130989</td>\n",
       "      <td>259638457</td>\n",
       "      <td>259924149</td>\n",
       "      <td>186302529</td>\n",
       "      <td>237858084</td>\n",
       "      <td>185871841</td>\n",
       "      <td>183722274</td>\n",
       "      <td>184172591</td>\n",
       "    </tr>\n",
       "  </tbody>\n",
       "</table>\n",
       "</div>"
      ],
      "text/plain": [
       "                       0          0          0          0          0  \\\n",
       "moves_encoded  123442959  123717766  123297963  123842441  259080238   \n",
       "\n",
       "                       0          0          0          0          0  \\\n",
       "moves_encoded  124130989  259638457  259924149  186302529  237858084   \n",
       "\n",
       "                       0          0          0  \n",
       "moves_encoded  185871841  183722274  184172591  "
      ]
     },
     "execution_count": 105,
     "metadata": {},
     "output_type": "execute_result"
    }
   ],
   "source": [
    "exploded_moves[0]"
   ]
  },
  {
   "cell_type": "code",
   "execution_count": null,
   "metadata": {},
   "outputs": [],
   "source": [
    "games_s['moves_class']."
   ]
  },
  {
   "cell_type": "code",
   "execution_count": null,
   "metadata": {},
   "outputs": [],
   "source": []
  },
  {
   "cell_type": "code",
   "execution_count": null,
   "metadata": {},
   "outputs": [],
   "source": [
    "games[['moves_win','winner_bin']]"
   ]
  },
  {
   "cell_type": "markdown",
   "metadata": {
    "tags": []
   },
   "source": [
    "## UMAP model\n",
    "\n",
    "---\n",
    "\n",
    "Parameters:"
   ]
  },
  {
   "cell_type": "code",
   "execution_count": null,
   "metadata": {},
   "outputs": [],
   "source": [
    "distance_metric = 'euclidean'\n",
    "# metrics_available = euclidean, manhattan, chebyshev, minkowski, canberra, braycurtis, mahalanobis,\n",
    "# wminkowski, seuclidean, cosine, correlation, haversine, hamming, jaccard, dice, russelrao, kulsinski,\n",
    "# ll_dirichlet, hellinger, rogerstanimoto, sokalmichener, sokalsneath, yule\n",
    "\n",
    "n_neighbors = 15\n",
    "min_dist = 0.2"
   ]
  },
  {
   "cell_type": "markdown",
   "metadata": {},
   "source": [
    "Instatiate & train the model:"
   ]
  },
  {
   "cell_type": "code",
   "execution_count": null,
   "metadata": {},
   "outputs": [],
   "source": [
    "## Instantiate UMAP model\n",
    "reducer = umap.UMAP(metric=distance_metric,\n",
    "                   n_neighbors=n_neighbors,\n",
    "                   min_dist=min_dist)"
   ]
  },
  {
   "cell_type": "code",
   "execution_count": null,
   "metadata": {},
   "outputs": [],
   "source": [
    "## Train the model\n",
    "embedding = reducer.fit_transform(hot_df)"
   ]
  },
  {
   "cell_type": "markdown",
   "metadata": {
    "tags": []
   },
   "source": [
    "---\n",
    "\n",
    "## Plot\n",
    "\n",
    "---\n",
    "\n",
    "Parameters:"
   ]
  },
  {
   "cell_type": "code",
   "execution_count": null,
   "metadata": {},
   "outputs": [],
   "source": [
    "## switches\n",
    "cbar_switch = True\n",
    "\n",
    "## display\n",
    "alpha = 1\n",
    "marker_shape = 'o'\n",
    "marker_size = 2\n",
    "dpi = 300\n",
    "\n",
    "## data\n",
    "cmap_variable = games['game_len_mins']\n",
    "\n",
    "## colors\n",
    "facecolor = 'black'\n",
    "labelcolor = 'white'\n",
    "cmap = 'viridis'"
   ]
  },
  {
   "cell_type": "markdown",
   "metadata": {},
   "source": [
    "Plot script:"
   ]
  },
  {
   "cell_type": "code",
   "execution_count": null,
   "metadata": {},
   "outputs": [],
   "source": [
    "## Render vis\n",
    "fig = plt.figure(figsize=(14,12))\n",
    "fig.patch.set_facecolor(facecolor)\n",
    "\n",
    "plot = plt.scatter(embedding[:,0], \n",
    "                embedding[:,1], \n",
    "                marker=marker_shape,\n",
    "                s=marker_size,\n",
    "                edgecolor='none',\n",
    "                c=cmap_variable,\n",
    "                cmap='viridis', \n",
    "                alpha=alpha)\n",
    "\n",
    "plt.axis(\"off\")\n",
    "plt.title(f'20k chess games; distance={distance_metric}; nn={n_neighbors}, min=dist={min_dist}', \n",
    "          color='w')\n",
    "\n",
    "if cbar_switch:\n",
    "    cbar = plt.colorbar(fraction=0.05, \n",
    "                    shrink=0.5,\n",
    "                    ticks=[games['game_len_mins'].min(), \n",
    "                        games['game_len_mins'].quantile(q=0.50),\n",
    "                        games['game_len_mins'].quantile(q=0.75),\n",
    "                        games['game_len_mins'].max()], alpha=alpha\n",
    "                           )\n",
    "\n",
    "    cbar.set_label(cmap_variable.name, color=labelcolor)\n",
    "    cbar.ax.yaxis.set_tick_params(color=labelcolor)\n",
    "    cbar.solids.set_edgecolor(\"face\")\n",
    "\n",
    "plt.setp(plt.getp(cbar.ax.axes, 'yticklabels'), color=labelcolor)\n",
    "\n",
    "_ = plot\n",
    "\n",
    "# plt.savefig(f\"screens/{distance_metric}_nn{n_neighbors}_mind{min_dist}_v{notebook_ver}.png\", \n",
    "#             dpi=dpi, \n",
    "#             facecolor=facecolor)"
   ]
  },
  {
   "cell_type": "code",
   "execution_count": null,
   "metadata": {},
   "outputs": [],
   "source": []
  }
 ],
 "metadata": {
  "kernelspec": {
   "display_name": "Python 3 (ipykernel)",
   "language": "python",
   "name": "python3"
  },
  "language_info": {
   "codemirror_mode": {
    "name": "ipython",
    "version": 3
   },
   "file_extension": ".py",
   "mimetype": "text/x-python",
   "name": "python",
   "nbconvert_exporter": "python",
   "pygments_lexer": "ipython3",
   "version": "3.8.3"
  }
 },
 "nbformat": 4,
 "nbformat_minor": 4
}
